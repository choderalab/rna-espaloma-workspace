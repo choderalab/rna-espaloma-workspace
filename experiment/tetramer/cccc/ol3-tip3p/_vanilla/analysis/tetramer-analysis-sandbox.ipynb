{
 "cells": [
  {
   "cell_type": "markdown",
   "id": "f491bad3-b296-44e5-a8e9-ef30b5e7b155",
   "metadata": {},
   "source": [
    "# Analyze RNA tetramers (vanilla)\n",
    "\n",
    "### TODO\n",
    "- add inner minor ticks\n",
    "- change xtick range to 0 - 360 for backbone torsion plot\n",
    "- optimize definition to categorize structures"
   ]
  },
  {
   "cell_type": "code",
   "execution_count": null,
   "id": "ec244967-6e48-452c-8f1a-c606c6a61ca7",
   "metadata": {},
   "outputs": [],
   "source": [
    "import os, sys, math\n",
    "import numpy as np\n",
    "import glob\n",
    "import mdtraj\n",
    "import logging\n",
    "import netCDF4 as nc\n",
    "import warnings\n",
    "import pandas as pd\n",
    "#from IPython.display import display\n",
    "\n",
    "import matplotlib.pyplot as plt\n",
    "%matplotlib inline\n",
    "from matplotlib.ticker import MultipleLocator, FormatStrFormatter, AutoMinorLocator\n",
    "import seaborn as sns\n",
    "\n",
    "#import openmmtools as mmtools\n",
    "#from pymbar import timeseries\n",
    "#from openmm import *\n",
    "#from openmm.app import *\n",
    "#from openmm.unit import *\n",
    "\n",
    "import barnaba as bb\n",
    "from barnaba import definitions\n",
    "from barnaba.nucleic import Nucleic"
   ]
  },
  {
   "cell_type": "code",
   "execution_count": null,
   "id": "95d9ba46-caeb-45c0-9ec2-652e5dd04976",
   "metadata": {},
   "outputs": [],
   "source": [
    "logger = logging.getLogger(__name__)\n",
    "warnings.filterwarnings(\"ignore\")"
   ]
  },
  {
   "cell_type": "code",
   "execution_count": null,
   "id": "56538e95-3f38-43ec-8e78-17906635ae72",
   "metadata": {},
   "outputs": [],
   "source": [
    "pd.options.display.max_rows = None\n",
    "pd.options.display.max_columns = None\n",
    "pd.options.display.precision = 1\n",
    "pd.options.display.float_format = '{:.1f}'.format"
   ]
  },
  {
   "cell_type": "code",
   "execution_count": null,
   "id": "15a7f8ed-cc3f-4768-bb5c-4fdaa0402f12",
   "metadata": {},
   "outputs": [],
   "source": [
    "#plt.rcParamsDefault"
   ]
  },
  {
   "cell_type": "code",
   "execution_count": null,
   "id": "cab17c5a-2320-488f-8fc2-daaea5d27b9e",
   "metadata": {},
   "outputs": [],
   "source": [
    "params = {'legend.fontsize': 40, \n",
    "          'font.size': 40, \n",
    "          'axes.labelsize': 48,\n",
    "          'axes.titlesize': 48,\n",
    "          'xtick.labelsize': 40,\n",
    "          'ytick.labelsize': 40,\n",
    "          'savefig.dpi': 600, \n",
    "          'figure.figsize': [64, 8],\n",
    "          'xtick.major.size': 10,\n",
    "          'xtick.minor.size': 7,\n",
    "          'ytick.major.size': 10,\n",
    "          'ytick.minor.size': 7}\n",
    "\n",
    "plt.rcParams.update(params)"
   ]
  },
  {
   "cell_type": "code",
   "execution_count": null,
   "id": "dd3b04c8-ae05-4197-a950-5f0f6196f3e8",
   "metadata": {},
   "outputs": [],
   "source": [
    "backbone_sugar_atoms = [\n",
    "    \"C1'\", \\\n",
    "    \"H1'\", \\\n",
    "    \"C2'\", \\\n",
    "    \"H2'\", \\\n",
    "    \"C3'\", \\\n",
    "    \"H3'\", \\\n",
    "    \"C4'\", \\\n",
    "    \"H4'\", \\\n",
    "    \"C5'\", \\\n",
    "    \"H5'\", \\\n",
    "    \"H5''\", \\\n",
    "    \"O2'\", \\\n",
    "    \"HO2'\", \\\n",
    "    \"O3'\", \\\n",
    "    \"O4'\", \\\n",
    "    \"O5'\", \\\n",
    "    \"P\", \\\n",
    "    \"OP1\", \\\n",
    "    \"OP2\", \\\n",
    "    \"HO5'\", \\\n",
    "    \"HO3'\"\n",
    "]"
   ]
  },
  {
   "cell_type": "code",
   "execution_count": null,
   "id": "7518c6e8-7122-48b7-b2f4-d6a082e9aaa9",
   "metadata": {},
   "outputs": [],
   "source": [
    "def radian_to_degree(a):\n",
    "    \"\"\"\n",
    "    a : list\n",
    "        [trajectory frame : residue : torsion]\n",
    "    \"\"\"\n",
    "    \n",
    "    a[np.where(a<0.0)] += 2.*np.pi\n",
    "    a *= 180.0/np.pi\n",
    "\n",
    "    # same as above\n",
    "    #a = a*(180./np.pi)\n",
    "    #a[np.where(a<0.0)] += 360\n",
    "    \n",
    "    return a"
   ]
  },
  {
   "cell_type": "markdown",
   "id": "93561ebc-7a41-4bd4-8846-9c435d910dbc",
   "metadata": {
    "tags": []
   },
   "source": [
    "# Define parameters"
   ]
  },
  {
   "cell_type": "code",
   "execution_count": null,
   "id": "13dda259-2662-4b7e-ae36-574f37c68254",
   "metadata": {},
   "outputs": [],
   "source": [
    "PLOT_TITLE = \"CCCC Amber ff14\"\n",
    "UNIT_NM_TO_ANGSTROMS = 10\n",
    "UNIT_PS_TO_NS = 1/1000\n",
    "LOGGING_FREQUENCY = 100   # Default: 100 (unit: ps)\n",
    "STRIDE = 10               # Only read every stride-th frame. Each frame is saved 100 ps (LOGGING_FREQUENCY) as default."
   ]
  },
  {
   "cell_type": "markdown",
   "id": "afadd784-bc22-4ad9-b167-4b315c8f7ab0",
   "metadata": {},
   "source": [
    "# Load reference and trajectory files"
   ]
  },
  {
   "cell_type": "code",
   "execution_count": null,
   "id": "386a203f-1b72-4b64-822b-c3a67415b9a1",
   "metadata": {},
   "outputs": [],
   "source": [
    "# initial structure\n",
    "init_pdb = \"../../eq/solvated.pdb\"\n",
    "\n",
    "# reference structure\n",
    "ref_pdb = \"../../eq/min.pdb\"\n",
    "ref_traj = mdtraj.load(ref_pdb)\n",
    "\n",
    "# equilibrated\n",
    "eq_ncfile = \"../../eq/traj.nc\"\n",
    "eq_traj = mdtraj.load(eq_ncfile, top=init_pdb)\n",
    "\n",
    "# trajectory: 100ns each / checkpoint interval: 100ps\n",
    "#n = len(glob.glob(\"../md*\"))\n",
    "n = 250\n",
    "ncfiles = [ \"../md\" + str(i) + \"/traj.nc\" for i in range(1, n+1) ]\n",
    "traj = mdtraj.load(ncfiles, top=init_pdb, stride=STRIDE)"
   ]
  },
  {
   "cell_type": "code",
   "execution_count": null,
   "id": "e8bbb815-50cd-41c2-acd3-3458be23b8fc",
   "metadata": {},
   "outputs": [],
   "source": [
    "#ncfiles"
   ]
  },
  {
   "cell_type": "code",
   "execution_count": null,
   "id": "edde063f-b7e8-4b5a-b682-bf5d5773d76a",
   "metadata": {},
   "outputs": [],
   "source": [
    "#traj"
   ]
  },
  {
   "cell_type": "markdown",
   "id": "b1048ba4-32e0-49b7-b708-30a2eac66077",
   "metadata": {},
   "source": [
    "#### Residue names"
   ]
  },
  {
   "cell_type": "code",
   "execution_count": null,
   "id": "17f72f26-d1ca-46c4-98c7-a4a4d7aa70c5",
   "metadata": {},
   "outputs": [],
   "source": [
    "rnames = [ residue.name for residue in ref_traj.topology.residues if residue.name not in [\"HOH\", \"NA\", \"CL\"]]\n",
    "print(rnames)"
   ]
  },
  {
   "cell_type": "markdown",
   "id": "9efb1784-6f65-4174-9faa-b31689cfb357",
   "metadata": {
    "tags": []
   },
   "source": [
    "# Torsion distribution"
   ]
  },
  {
   "cell_type": "markdown",
   "id": "c9c071e6-98d8-4871-8f73-a2731893eef4",
   "metadata": {},
   "source": [
    "#### Compare backbone angles for initial and minimized structure"
   ]
  },
  {
   "cell_type": "code",
   "execution_count": null,
   "id": "270b6bc8-8aaf-4933-a7a2-c8a6b21de14e",
   "metadata": {},
   "outputs": [],
   "source": [
    "backbone_annot_dict = {}\n",
    "backbone_annot_dict[\"alpha\"]=0\n",
    "backbone_annot_dict[\"beta\"]=1\n",
    "backbone_annot_dict[\"gamma\"]=2\n",
    "backbone_annot_dict[\"delta\"]=3\n",
    "backbone_annot_dict[\"eps\"]=4\n",
    "backbone_annot_dict[\"zeta\"]=5\n",
    "backbone_annot_dict[\"chi\"]=6"
   ]
  },
  {
   "cell_type": "code",
   "execution_count": null,
   "id": "e5546eeb-acb4-4553-b306-8717f0b34515",
   "metadata": {},
   "outputs": [],
   "source": [
    "cols = []\n",
    "#cols.append(\"Residue\")\n",
    "cols += [ a for a in definitions.bb_angles ]"
   ]
  },
  {
   "cell_type": "code",
   "execution_count": null,
   "id": "6b6374fb-8109-48e8-a3fe-1ca804e16cb5",
   "metadata": {},
   "outputs": [],
   "source": [
    "angles, res = bb.backbone_angles(init_pdb)\n",
    "\n",
    "mydict = {}\n",
    "for i in range(angles.shape[1]):\n",
    "    vals = []\n",
    "    for j in range(angles.shape[2]):\n",
    "        vals.append(angles[0,i,j])\n",
    "        \n",
    "    # move from -pi,pi to 0-2pi range and convert radians to deg\n",
    "    a = radian_to_degree(np.array(vals))\n",
    "    mydict[res[i]] = a\n",
    "    \n",
    "df = pd.DataFrame.from_dict(mydict, orient='index', columns=cols)\n",
    "df"
   ]
  },
  {
   "cell_type": "code",
   "execution_count": null,
   "id": "f1869057-056e-4310-923b-4eed6f0deda1",
   "metadata": {},
   "outputs": [],
   "source": [
    "angles, res = bb.backbone_angles(ref_pdb)\n",
    "\n",
    "mydict = {}\n",
    "for i in range(angles.shape[1]):\n",
    "    vals = []\n",
    "    for j in range(angles.shape[2]):\n",
    "        vals.append(angles[0,i,j])\n",
    "    \n",
    "    # move from -pi,pi to 0-2pi range and convert radians to deg\n",
    "    a = radian_to_degree(np.array(vals))\n",
    "    mydict[res[i]] = a\n",
    "\n",
    "df = pd.DataFrame.from_dict(mydict, orient='index', columns=cols)\n",
    "df"
   ]
  },
  {
   "cell_type": "markdown",
   "id": "c52a3e34-83f9-47ba-a579-e5612200254b",
   "metadata": {},
   "source": [
    "#### backbone angle histrogram\n"
   ]
  },
  {
   "cell_type": "markdown",
   "id": "01454c83-54a6-480c-8bbb-1a218718af8b",
   "metadata": {},
   "source": [
    "equilibration"
   ]
  },
  {
   "cell_type": "code",
   "execution_count": null,
   "id": "6805816d-a745-43c6-bb92-6c39d5c15cb4",
   "metadata": {},
   "outputs": [],
   "source": [
    "angles, res = bb.backbone_angles_traj(eq_traj)\n",
    "#print(angles_s.shape)\n",
    "\n",
    "# move from -pi,pi to 0-2pi range and convert radians to deg\n",
    "a = radian_to_degree(np.array(angles))\n",
    "\n",
    "# create historgram \n",
    "bins = np.arange(0, 360, 10)\n",
    "\n",
    "# make plot\n",
    "fig = plt.figure(figsize=(24,18))\n",
    "for k, v in backbone_annot_dict.items():\n",
    "    \"\"\"\n",
    "    k : torsion name\n",
    "    v : torsion index\n",
    "    \"\"\"\n",
    "    ax = fig.add_subplot(4, 3, v+1)\n",
    "    for i in range(len(rnames)):\n",
    "        \"\"\"\n",
    "        i : residue name index\n",
    "        x : normalized frequency\n",
    "        y : degree\n",
    "        \"\"\"\n",
    "        y, x = np.histogram(a[:,i, v], density=True, bins=bins)\n",
    "        ax.plot(0.5*(x[1:]+x[:-1]), y, label=\"{}-{}\".format(rnames[i], i))\n",
    "    if v == 0:\n",
    "        plt.legend(loc=\"upper left\", fontsize=18)\n",
    "    if v == 3:\n",
    "        ax.set_ylabel(\"probability\", fontsize=32)\n",
    "    ax.set_xlabel(\"{} angle (deg)\".format(k), fontsize=32)\n",
    "    ax.set_xlim(0, 360)\n",
    "    ax.set_ylim(0, 0.06)\n",
    "    ax.tick_params(axis='both', labelsize=18)\n",
    "    #plt.text(60, 0.005, \"syn\", fontsize=18, ha='center')\n",
    "    #plt.text(190, 0.005, \"anti\", fontsize=18, ha='center')\n",
    "    #plt.text(260, 0.005, \"high-anti\", fontsize=18, ha='center')\n",
    "\n",
    "plt.tight_layout()\n",
    "plt.savefig(\"bb_angles_eq.png\")"
   ]
  },
  {
   "cell_type": "markdown",
   "id": "0480affd-c6cd-4c42-8e1b-6a289ba5d51b",
   "metadata": {},
   "source": [
    "#### backbone angle histrogram"
   ]
  },
  {
   "cell_type": "markdown",
   "id": "42dfea73-7c03-4d07-b35d-43c214ff6af5",
   "metadata": {},
   "source": [
    "production"
   ]
  },
  {
   "cell_type": "code",
   "execution_count": null,
   "id": "b3af61f6-9fb2-4a75-8567-c3c4a5da991f",
   "metadata": {},
   "outputs": [],
   "source": [
    "angles, res = bb.backbone_angles_traj(traj)\n",
    "#print(angles_s.shape)\n",
    "\n",
    "# move from -pi,pi to 0-2pi range and convert radians to deg\n",
    "a = radian_to_degree(np.array(angles))\n",
    "\n",
    "# create historgram \n",
    "bins = np.arange(0, 360, 10)\n",
    "\n",
    "# make plot\n",
    "fig = plt.figure(figsize=(24,18))\n",
    "for k, v in backbone_annot_dict.items():\n",
    "    \"\"\"\n",
    "    k : torsion name\n",
    "    v : torsion index\n",
    "    \"\"\"\n",
    "    ax = fig.add_subplot(4, 3, v+1)\n",
    "    for i in range(len(rnames)):\n",
    "        \"\"\"\n",
    "        i : residue name index\n",
    "        x : normalized frequency\n",
    "        y : degree\n",
    "        \"\"\"\n",
    "        y, x = np.histogram(a[:,i, v], density=True, bins=bins)\n",
    "        ax.plot(0.5*(x[1:]+x[:-1]), y, label=\"{}-{}\".format(rnames[i], i))\n",
    "    if v == 0:\n",
    "        plt.legend(loc=\"upper left\", fontsize=18)\n",
    "    if v == 3:\n",
    "        ax.set_ylabel(\"probability\", fontsize=32)\n",
    "    ax.set_xlabel(\"{} angle (deg)\".format(k), fontsize=32)\n",
    "    ax.set_xlim(0, 360)\n",
    "    ax.set_ylim(0, 0.06)\n",
    "    ax.tick_params(axis='both', labelsize=18)\n",
    "    #plt.text(60, 0.005, \"syn\", fontsize=18, ha='center')\n",
    "    #plt.text(190, 0.005, \"anti\", fontsize=18, ha='center')\n",
    "    #plt.text(260, 0.005, \"high-anti\", fontsize=18, ha='center')\n",
    "\n",
    "plt.tight_layout()\n",
    "plt.savefig(\"bb_angles.png\")"
   ]
  },
  {
   "cell_type": "markdown",
   "id": "9f8fa573-54aa-4406-afed-2e703c9877e0",
   "metadata": {},
   "source": [
    "#### sugar pucker"
   ]
  },
  {
   "cell_type": "markdown",
   "id": "1f1f507a-bfd8-4b64-ac60-ab0be6ff5570",
   "metadata": {},
   "source": [
    "initial structure"
   ]
  },
  {
   "cell_type": "code",
   "execution_count": null,
   "id": "c7987c52-afd0-4b4b-a136-0820f22e6d9a",
   "metadata": {},
   "outputs": [],
   "source": [
    "init_angles, res = bb.pucker_angles(init_pdb, topology=init_pdb)"
   ]
  },
  {
   "cell_type": "markdown",
   "id": "b9fec8e0-b423-46be-bfc6-f1e463ed2a71",
   "metadata": {},
   "source": [
    "equilibration"
   ]
  },
  {
   "cell_type": "code",
   "execution_count": null,
   "id": "c708daa7-12c0-4365-96b0-5adadb754dee",
   "metadata": {},
   "outputs": [],
   "source": [
    "#angles, res = bb.pucker_angles_traj(eq_ncfile, topology=init_pdb)\n",
    "angles, res = bb.pucker_rao_traj(eq_traj)\n",
    "\n",
    "# make plot\n",
    "fig = plt.figure(figsize=(24,18))\n",
    "for i in range(len(rnames)):\n",
    "    ax = fig.add_subplot(1, 4, i+1, polar=True)\n",
    "    #ax.plot(polar=True)\n",
    "\n",
    "    ax.scatter(angles[:,i,0], angles[:,i,1], s=10, c=np.arange(len(angles)), cmap='Blues', label=\"{}-{}\".format(rnames[i], i))\n",
    "    ax.scatter(init_angles[:,i,0], init_angles[:,i,1], marker=\"X\", c=\"orange\", edgecolors=\"black\", s=150, linewidths=0.5)\n",
    "    \n",
    "    p3 = np.pi/5\n",
    "    ax.text(0.5*p3, 1.6, \"C3'-endo\", ha='center', fontsize=16, fontweight='bold')\n",
    "    ax.text(1.3*p3, 1.5, \"C4'-exo\",  ha='center', fontsize=16)\n",
    "    ax.text(2.5*p3, 1.5, \"O4'-endo\", ha='center', fontsize=16)\n",
    "    ax.text(3.7*p3, 1.5, \"C1'-exo\",  ha='center', fontsize=16)\n",
    "    ax.text(4.5*p3, 1.6, \"C2'-endo\", ha='center', fontsize=16, fontweight='bold')\n",
    "    ax.text(5.5*p3, 1.5, \"C3'-exo\",  ha='center', fontsize=16)\n",
    "    ax.text(6.5*p3, 1.5, \"C4'-endo\", ha='center', fontsize=16)\n",
    "    ax.text(7.5*p3, 1.6, \"O4'-exo\",  ha='center', fontsize=16)\n",
    "    ax.text(8.5*p3, 1.5, \"C1'-endo\", ha='center', fontsize=16)\n",
    "    ax.text(9.5*p3, 1.5, \"C2'-exo\",  ha='center', fontsize=16)\n",
    "    \n",
    "    xt = np.arange(0, 2*np.pi, p3)\n",
    "    ax.set_xticks(xt)\n",
    "    ax.set_yticks([])\n",
    "    ax.set_ylim(0, 1.2)\n",
    "    ax.tick_params(axis='both', labelsize=12)\n",
    "    \n",
    "    plt.tight_layout()\n",
    "    #plt.legend(loc=\"upper center\")\n",
    "    plt.savefig(\"pucker_anlges_eq.png\")"
   ]
  },
  {
   "cell_type": "markdown",
   "id": "2009ed12-eb77-4b24-b701-384a25fcbf58",
   "metadata": {},
   "source": [
    "production"
   ]
  },
  {
   "cell_type": "code",
   "execution_count": null,
   "id": "fdec9346-dd88-4ba7-aadf-71bf0fe91d74",
   "metadata": {},
   "outputs": [],
   "source": [
    "#angles, res = bb.pucker_angles(ncfiles, topology=init_pdb)\n",
    "angles, res = bb.pucker_rao_traj(traj)\n",
    "\n",
    "# make plot\n",
    "fig = plt.figure(figsize=(24,18))\n",
    "for i in range(len(rnames)):\n",
    "    ax = fig.add_subplot(1, 4, i+1, polar=True)\n",
    "    #ax.plot(polar=True)\n",
    "\n",
    "    ax.scatter(angles[:,i,0], angles[:,i,1], s=10, c=np.arange(len(angles)), cmap='Blues', label=\"{}-{}\".format(rnames[i], i))\n",
    "    ax.scatter(init_angles[:,i,0], init_angles[:,i,1], marker=\"X\", c=\"orange\", edgecolors=\"black\", s=150, linewidths=0.5)\n",
    "    \n",
    "    p3 = np.pi/5\n",
    "    ax.text(0.5*p3, 1.6, \"C3'-endo\", ha='center', fontsize=16, fontweight='bold')\n",
    "    ax.text(1.3*p3, 1.5, \"C4'-exo\",  ha='center', fontsize=16)\n",
    "    ax.text(2.5*p3, 1.5, \"O4'-endo\", ha='center', fontsize=16)\n",
    "    ax.text(3.7*p3, 1.5, \"C1'-exo\",  ha='center', fontsize=16)\n",
    "    ax.text(4.5*p3, 1.6, \"C2'-endo\", ha='center', fontsize=16, fontweight='bold')\n",
    "    ax.text(5.5*p3, 1.5, \"C3'-exo\",  ha='center', fontsize=16)\n",
    "    ax.text(6.5*p3, 1.5, \"C4'-endo\", ha='center', fontsize=16)\n",
    "    ax.text(7.5*p3, 1.6, \"O4'-exo\",  ha='center', fontsize=16)\n",
    "    ax.text(8.5*p3, 1.5, \"C1'-endo\", ha='center', fontsize=16)\n",
    "    ax.text(9.5*p3, 1.5, \"C2'-exo\",  ha='center', fontsize=16)\n",
    "    \n",
    "    xt = np.arange(0, 2*np.pi, p3)\n",
    "    ax.set_xticks(xt)\n",
    "    ax.set_yticks([])\n",
    "    ax.set_ylim(0, 1.2)\n",
    "    ax.tick_params(axis='both', labelsize=12)\n",
    "    \n",
    "    plt.tight_layout()\n",
    "    #plt.legend(loc=\"upper center\")\n",
    "    plt.savefig(\"pucker_anlges.png\")"
   ]
  },
  {
   "cell_type": "markdown",
   "id": "e055b1b5-6317-47e2-bf33-40553186dee9",
   "metadata": {
    "tags": []
   },
   "source": [
    "# Radius of gyration"
   ]
  },
  {
   "cell_type": "markdown",
   "id": "c4799785-833f-4546-a72b-68c3639a2ad2",
   "metadata": {},
   "source": [
    "#### Rg histogram"
   ]
  },
  {
   "cell_type": "code",
   "execution_count": null,
   "id": "65f68d63-68b3-47ff-bb47-9ad711d23c51",
   "metadata": {},
   "outputs": [],
   "source": [
    "# calculate\n",
    "atom_indices = traj.topology.select('not (protein or water or symbol Na or symbol Cl)')\n",
    "t = traj.atom_slice(atom_indices)\n",
    "rg = mdtraj.compute_rg(t)\n",
    "rg = np.array(rg) * UNIT_NM_TO_ANGSTROMS   # convert nm to angstroms\n",
    "\n",
    "# define\n",
    "fig, ax = plt.subplots(figsize=(12, 8))\n",
    "\n",
    "# title\n",
    "ax.set_title(PLOT_TITLE)\n",
    "\n",
    "# x-axis\n",
    "ax.set_xlabel(r'Rg [${\\rm \\AA}$]')\n",
    "#ax.xaxis.set_ticks(np.arange(0, 1, 0.2))\n",
    "ax.xaxis.set_minor_locator(AutoMinorLocator())\n",
    "#ax.set_xlim([]) \n",
    "\n",
    "# y-axis\n",
    "ax.set_ylabel('probability')\n",
    "#ax.yaxis.set_ticks(np.arange(0, 1, 0.2))\n",
    "#ax.yaxis.set_minor_locator(MultipleLocator())\n",
    "ax.yaxis.set_minor_locator(AutoMinorLocator())\n",
    "#ax.set_ylim([])\n",
    "\n",
    "# plot\n",
    "ax.hist(rg, bins=20, density=True)\n",
    "\n",
    "#plt.show()\n",
    "plt.savefig(\"rg_hist.png\")"
   ]
  },
  {
   "cell_type": "markdown",
   "id": "63f7376e-db2c-4ab3-9947-f2b66ce6758d",
   "metadata": {},
   "source": [
    "#### Rg time plot"
   ]
  },
  {
   "cell_type": "code",
   "execution_count": null,
   "id": "1ae6fc93-5fb0-4a73-bb06-c7f4c60783b5",
   "metadata": {},
   "outputs": [],
   "source": [
    "x = np.arange(1, len(rg)+1) * LOGGING_FREQUENCY * STRIDE * UNIT_PS_TO_NS\n",
    "\n",
    "# define\n",
    "fig, ax = plt.subplots(figsize=(12, 8))\n",
    "\n",
    "# title\n",
    "ax.set_title(PLOT_TITLE)\n",
    "\n",
    "# x-axis\n",
    "ax.set_xlabel(r'time [ns]')\n",
    "#ax.xaxis.set_ticks(np.arange(0, 1, 0.2))\n",
    "ax.xaxis.set_minor_locator(AutoMinorLocator())\n",
    "ax.set_xlim([0, len(x)]) \n",
    "\n",
    "# y-axis\n",
    "ax.set_ylabel(r'Rg [${\\rm \\AA}$]')\n",
    "#ax.yaxis.set_ticks(np.arange(0, 1, 0.2))\n",
    "#ax.yaxis.set_minor_locator(MultipleLocator())\n",
    "ax.yaxis.set_minor_locator(AutoMinorLocator())\n",
    "ax.set_ylim([4.5, 8])\n",
    "\n",
    "# plot\n",
    "ax.plot(x, rg, lw=1)\n",
    "\n",
    "#plt.show()\n",
    "plt.savefig(\"rg.png\")"
   ]
  },
  {
   "cell_type": "markdown",
   "id": "5c2ac5d7-f1b8-4b7a-a7b5-0aca82d43223",
   "metadata": {
    "tags": []
   },
   "source": [
    "# RMSD and eRMSD\n",
    "\n",
    "RMSD:  Calculate rmsd after optimal alignment between reference and target structures. Superposition and RMSD calculations are performed using all heavy atoms. If the sequence of reference and target is different, only backbone/sugar heavy atoms are used.  \n",
    "eRMSD: Calculate ermsd between reference and target structures  "
   ]
  },
  {
   "cell_type": "markdown",
   "id": "f622fec9-3b5a-4337-8541-8f736df55ffc",
   "metadata": {},
   "source": [
    "#### RMSD time plot"
   ]
  },
  {
   "cell_type": "code",
   "execution_count": null,
   "id": "583c8787-c066-4dba-9cc1-a773d591600d",
   "metadata": {},
   "outputs": [],
   "source": [
    "# calculate\n",
    "rmsd = list(bb.functions.rmsd_traj(ref_traj, traj))   \n",
    "rmsd = np.array(rmsd) * UNIT_NM_TO_ANGSTROMS\n",
    "\n",
    "x = np.arange(1, len(rg)+1) * LOGGING_FREQUENCY * STRIDE * UNIT_PS_TO_NS\n",
    "\n",
    "# define\n",
    "fig, ax = plt.subplots(figsize=(12, 8))\n",
    "\n",
    "# title\n",
    "ax.set_title(PLOT_TITLE)\n",
    "\n",
    "# x-axis\n",
    "ax.set_xlabel(r'Time [ns]')\n",
    "#ax.xaxis.set_ticks(np.arange(0, 1, 0.2))\n",
    "ax.xaxis.set_minor_locator(AutoMinorLocator())\n",
    "ax.set_xlim([0, len(x)]) \n",
    "\n",
    "# y-axis\n",
    "ax.set_ylabel(r'RMSD [${\\rm \\AA}$]')\n",
    "#ax.yaxis.set_ticks(np.arange(0, 1, 0.2))\n",
    "#ax.yaxis.set_minor_locator(MultipleLocator())\n",
    "ax.yaxis.set_minor_locator(AutoMinorLocator())\n",
    "ax.set_ylim([0, 6])\n",
    "\n",
    "# plot\n",
    "ax.plot(x, rmsd, lw=1)\n",
    "\n",
    "#plt.show()\n",
    "plt.savefig(\"rmsd.png\")"
   ]
  },
  {
   "cell_type": "markdown",
   "id": "642074e8-f61b-4ae3-babd-3e23ddeb257c",
   "metadata": {},
   "source": [
    "#### eRMSD time plot"
   ]
  },
  {
   "cell_type": "code",
   "execution_count": null,
   "id": "d1a21ea7-b608-4d6d-a83d-26a21ea04678",
   "metadata": {},
   "outputs": [],
   "source": [
    "# calculate\n",
    "ermsd = list(bb.functions.ermsd_traj(ref_traj, traj))   \n",
    "ermsd = np.array(ermsd) * UNIT_NM_TO_ANGSTROMS\n",
    "\n",
    "\n",
    "# define\n",
    "fig, ax = plt.subplots(figsize=(12, 8))\n",
    "\n",
    "# title\n",
    "ax.set_title(PLOT_TITLE)\n",
    "\n",
    "# x-axis\n",
    "ax.set_xlabel(r'Time [ns]')\n",
    "#ax.xaxis.set_ticks(np.arange(0, 1, 0.2))\n",
    "ax.xaxis.set_minor_locator(AutoMinorLocator())\n",
    "ax.set_xlim([0, len(x)]) \n",
    "\n",
    "# y-axis\n",
    "ax.set_ylabel(r'eRMSD [${\\rm \\AA}$]')\n",
    "#ax.yaxis.set_ticks(np.arange(0, 1, 0.2))\n",
    "#ax.yaxis.set_minor_locator(MultipleLocator())\n",
    "ax.yaxis.set_minor_locator(AutoMinorLocator())\n",
    "#ax.set_ylim([0, 6])\n",
    "\n",
    "# plot\n",
    "ax.plot(x, ermsd, lw=1)\n",
    "\n",
    "#plt.show()\n",
    "plt.savefig(\"ermsd.png\")"
   ]
  },
  {
   "cell_type": "markdown",
   "id": "504e472d-549c-4167-8ca1-2a0ebdfabacf",
   "metadata": {},
   "source": [
    "#### RMSD and eRMSD side-by-side plot"
   ]
  },
  {
   "cell_type": "code",
   "execution_count": null,
   "id": "da198fdb-3347-47a0-a35f-958c40b1b3c4",
   "metadata": {},
   "outputs": [],
   "source": [
    "# define\n",
    "fig, (ax1, ax2) = plt.subplots(1,2, figsize=(24, 8))\n",
    "\n",
    "# title\n",
    "fig.suptitle(PLOT_TITLE)\n",
    "\n",
    "# xy-axis (1)\n",
    "ax1.set_xlabel(r'Time [ns]')\n",
    "ax1.xaxis.set_minor_locator(AutoMinorLocator())\n",
    "ax1.set_xlim([0, len(x)]) \n",
    "ax1.set_ylabel(r'RMSD [${\\rm \\AA}$]')\n",
    "ax1.yaxis.set_minor_locator(AutoMinorLocator())\n",
    "ax1.set_ylim([0, 6])\n",
    "\n",
    "# xy-axis (2)\n",
    "ax2.set_xlabel(r'Time [ns]')\n",
    "ax2.xaxis.set_minor_locator(AutoMinorLocator())\n",
    "ax2.set_xlim([0, len(x)]) \n",
    "ax2.set_ylabel(r'eRMSD [${\\rm \\AA}$]')\n",
    "ax2.yaxis.set_minor_locator(AutoMinorLocator())\n",
    "#ax2.set_ylim([0, 6])\n",
    "\n",
    "# plot\n",
    "ax1.plot(x, rmsd, lw=1, c='b')\n",
    "ax2.plot(x, ermsd, lw=1, c='r')\n",
    "\n",
    "plt.tight_layout()\n",
    "#plt.show()\n",
    "plt.savefig(\"rmsd_ermsd.png\")"
   ]
  },
  {
   "cell_type": "markdown",
   "id": "4aa66644-69f5-4f5a-bf7a-95b2b1112c1b",
   "metadata": {
    "tags": []
   },
   "source": [
    "# Annotation ([srnas/barnaba/examples/example_03_annotate.ipynb](https://github.com/srnas/barnaba/blob/master/examples/example_03_annotate.ipynb))\n",
    "\n",
    "`stackings, pairings, res = bb.annotate(pdb)`  \n",
    "\n",
    "returns three lists:\n",
    "\n",
    "- a list of stacking interactions\n",
    "- a list of pairing interactions\n",
    "- the list of residue names following the usual convention RESNAME_RESNUMBER_CHAININDEX\n",
    "\n",
    "`stackings` and `pairings` contain the list of interactions for the N frames in the PDB/trajectory file and it is organized in the following way: for a given frame there are interactions between residues with index pairings`[i][0][k][0]` and `pairings[i][0][k][1]`. The type of interaction is specified at the element `pairings[i][1][k]`."
   ]
  },
  {
   "cell_type": "markdown",
   "id": "1b3fa767-7817-4451-abe6-3f5ca3fa11a5",
   "metadata": {},
   "source": [
    "### Decypher the annotation  ###\n",
    "Base-pairing are classified according to the Leontis-Westhof classification, where \n",
    "- W = Watson-Crick edge\n",
    "- H = Hoogsteeen edge \n",
    "- S= Sugar edge\n",
    "- c/t = cis/trans\n",
    "- XXx = when two bases are close in space, but they do not fall in any of the categories. This happens frequently for low-resolution structures or from molecular simulations.\n",
    "\n",
    "WWc pairs between complementary bases are called WCc or GUc.  \n",
    "Stacking are classified according to the MCannotate classification:\n",
    "- \">>\" Upward\n",
    "- \"<<\" Downward \n",
    "- \"<>\" Outward\n",
    "- \"><\" Inward\n",
    "\n",
    "\n",
    "\n",
    "### Criteria for stacking/pairing ###\n",
    "First, we consider only bases that are \"close\" in space, i.e. $R_{ij} < 1.7$ and $R_{ji} < 1.7$.  \n",
    "$R_{ij} = (x_{ij}/5, y_{ij}/5, z_{ij}/3)$ is the SCALED position vector with components ${x,y,z}$ (in $\\mathring{A}$) of base j constructed on base i.  \n",
    "The criteria for *base-stacking* are the following:\n",
    "\n",
    "$( |z_{ij}| \\; AND \\; |z_{ji}| > 2 \\mathring{A} ) \\; AND \\;  \n",
    "(\\rho_{ij} \\; OR\\; \\rho_{ji} < 2.5 \\mathring{A}) \\; AND\\;  \n",
    "(|\\theta_{ij}| < 40^{\\circ} ) $ \n",
    "\n",
    "where\n",
    "- $ \\rho_{ij} = \\sqrt{x_{ij}^2 + y_{ij}^2} $  \n",
    "- $\\theta_{ij}$ = angle between the vectors normal to the base plane\n",
    "\n",
    "The criteria for *base-pairing* are the following:  \n",
    "\n",
    "non stacked AND $|\\theta_{ij}| < 60^{\\circ}$ AND (number of hydrogen bonds $> 0$)  \n",
    "The number of hydrogen bonds is calculated as the number of donor-acceptor pairs with distance $< 3.3 \\mathring{A}$. \n",
    "If bases are complementary and the number of hydrogen bonds is > 1 (AU/GU) or > 2 (GC), the pair is considered WCc (or GUc).\n",
    "\n",
    "- cis/trans is calculated according to the value of the dihedral angle defined by $C1'_{i}-N1/N9_{i}-N1/N9_{j}-C1'_{j}$\n",
    "- edges are definded according to the value of $\\psi = \\arctan{(\\hat{y}_{ij}/\\hat{x}_{ij})}$. \n",
    "    1. Watson-Crick edge: $0.16 <\\psi \\le 2.0 rad$ \n",
    "    2. Hoogsteen edge:  $2.0 <\\psi \\le 4.0 rad $. \n",
    "    3. Sugar edge: $\\psi > 4.0, \\psi \\le 0.16$\n",
    "\n",
    "    \n",
    "**ATT!**\n",
    "- These criteria are slightly different from the one used in other popular software for annotating three-dimensional structures (e.g. X3DNA, MCAnnotate, Fr3D, etc.). From my experience, all these packages give slightly different results, especially for non-Watson-Crick base-pairs.\n",
    "- Stacking is also problematic, as it relies on arbitrary criteria.\n",
    "- In all cases, criteria for stacking and pairing were calibrated to work well for high resolution structures. These criteria might not be optimal for low-resolution structures and to describe nearly-formed interactions such the ones that are often encountered in molecular simulations.\n",
    "\n",
    "### Dot-bracket annotation ###\n",
    "\n",
    "From the list of base-pairing, we can obtain the dot-bracket annotation using the function\n",
    "```python\n",
    "dotbracket = bb.dot_bracket(pairings,res)\n",
    "```\n",
    "this function returns a string for each frame in the PDB/simulation. Let's see this in action:\n"
   ]
  },
  {
   "cell_type": "markdown",
   "id": "33b47e5f-b122-4b15-b2a8-9b27309bd66e",
   "metadata": {},
   "source": [
    "### Symbols for base stacking from François Major’s group ([RNA 3D Structure Course](https://docs.google.com/document/d/173tvcKJgAUmjd03zIKLz-_KCNTlcHBNDWlDfDtMhxmU/edit#) by Craig L. Zirbel and Neocles Leontis at Bowling Green State Universtiy)\n",
    "\n",
    "Two possible orientations of two stacked bases result in four base-stacking types: upward (>>), downward (<<), outward (<>) and inward (><). Two arrows pointing in the same direction (upward and downward) corresponds to the stacking type in the canonical A-RNA double-helix. Upward or downward is chosen depending on which base is referred first (i.e. A>>B means B is stacked upward of A, or A is stacked downward of B). The two other types are less frequent in RNAs, respectively inward (A><B; A or B is stacked inward of, respectively B or A) and outward (A<>B; A or B is stacked outward of, respectively B or A). "
   ]
  },
  {
   "cell_type": "markdown",
   "id": "18607dd3-1e31-4fd1-914b-a2929c5b8892",
   "metadata": {},
   "source": [
    "#### minimized structure"
   ]
  },
  {
   "cell_type": "code",
   "execution_count": null,
   "id": "dc5d54f0-155d-420b-b58e-28e6fca70af8",
   "metadata": {},
   "outputs": [],
   "source": [
    "stackings, pairings, res = bb.annotate(ref_pdb, topology=init_pdb)"
   ]
  },
  {
   "cell_type": "code",
   "execution_count": null,
   "id": "9de4ce92-d4fe-44c6-b2f7-3bfde38ee726",
   "metadata": {},
   "outputs": [],
   "source": [
    "# list base pairings\n",
    "print(\"BASE-PAIRS\")\n",
    "for p in range(len(pairings[0][0])):\n",
    "    res1 = res[pairings[0][0][p][0]]\n",
    "    res2 = res[pairings[0][0][p][1]]\n",
    "    interaction =  pairings[0][1][p]\n",
    "    print(\"%10s %10s %4s\" % (res1,res2,interaction))\n",
    "\n",
    "# list base-stackings\n",
    "print(\"STACKING\")\n",
    "for p in range(len(stackings[0][0])):\n",
    "    res1 = res[stackings[0][0][p][0]]\n",
    "    res2 = res[stackings[0][0][p][1]]\n",
    "    interaction =  stackings[0][1][p]\n",
    "    print(\"%10s %10s %4s\" % (res1,res2,interaction))"
   ]
  },
  {
   "cell_type": "markdown",
   "id": "3461502c-d2c5-46a2-86f2-7c72cab1e394",
   "metadata": {},
   "source": [
    "#### production"
   ]
  },
  {
   "cell_type": "code",
   "execution_count": null,
   "id": "2fd7758b-24d4-451b-ac47-c644aee6162c",
   "metadata": {},
   "outputs": [],
   "source": [
    "# stacking and pairing\n",
    "stackings, pairings, res = bb.annotate_traj(traj, stacking_rho_cutoff=4.0, stacking_angle_cutoff=45)\n",
    "\n",
    "# pucker\n",
    "pucker_angles, _ = bb.pucker_rao_traj(traj)\n",
    "pucker_angles = radian_to_degree(pucker_angles)  # phase, amplitude\n",
    "\n",
    "# backbone\n",
    "bb_angles, _ = bb.backbone_angles_traj(traj, )\n",
    "bb_angles = radian_to_degree(bb_angles) # alpha, beta, gamma, delta, eps, zeta, chi\n",
    "\n",
    "# define individual angles\n",
    "alpha = bb_angles[:,:,0]\n",
    "beta = bb_angles[:,:,1]\n",
    "gamma = bb_angles[:,:,2]\n",
    "delta = bb_angles[:,:,3]\n",
    "eps = bb_angles[:,:,4]\n",
    "zeta = bb_angles[:,:,5]\n",
    "chi = bb_angles[:,:,6]\n",
    "phase = pucker_angles[:,:,0]"
   ]
  },
  {
   "cell_type": "code",
   "execution_count": null,
   "id": "62c412bb-ad20-4de4-a394-65583e5f1709",
   "metadata": {},
   "outputs": [],
   "source": [
    "# N1 distance\n",
    "atom_indices = ref_traj.topology.select('name N1')\n",
    "\n",
    "# distance between first (5'-end) and second N1 atom\n",
    "dist1 = mdtraj.compute_distances(traj, atom_pairs=atom_indices[:2].reshape(1,2))\n",
    "dist1 = dist1 * UNIT_NM_TO_ANGSTROMS\n",
    "\n",
    "# distance between second and third (3'-end) N1 atom\n",
    "dist2 = mdtraj.compute_distances(traj, atom_pairs=atom_indices[1:3].reshape(1,2))\n",
    "dist2 = dist2 * UNIT_NM_TO_ANGSTROMS\n",
    "\n",
    "# distance between third and fourth (3'-end) N1 atom\n",
    "dist3 = mdtraj.compute_distances(traj, atom_pairs=atom_indices[2:].reshape(1,2))\n",
    "dist3 = dist3 * UNIT_NM_TO_ANGSTROMS"
   ]
  },
  {
   "cell_type": "code",
   "execution_count": null,
   "id": "6ba5e800-9b90-4aee-8721-65de126295b3",
   "metadata": {},
   "outputs": [],
   "source": [
    "plt.hist(dist1, bins=100, histtype=\"step\")\n",
    "plt.hist(dist2, bins=100, histtype=\"step\")\n",
    "plt.show()"
   ]
  },
  {
   "cell_type": "code",
   "execution_count": null,
   "id": "1487c753-b373-4fcf-b441-fbda41071c27",
   "metadata": {
    "scrolled": true,
    "tags": []
   },
   "outputs": [],
   "source": [
    "myclass = []\n",
    "flipping_cutoff = 7\n",
    "\n",
    "for frame_idx in range(len(stackings)):\n",
    "    \"\"\"\n",
    "    stackings[frame_idx] : list\n",
    "        e.g. [[[0, 1], [1, 2], [2, 3]], ['>>', '>>', '>>']]\n",
    "    \"\"\"\n",
    "    stacking_residue_index = stackings[frame_idx][0]\n",
    "    stacking_pattern = stackings[frame_idx][1]\n",
    "        \n",
    "        \n",
    "    # 1) Define c3'-endo and c2'-endo using δ torsion angles\n",
    "    #    C3'-endo: an individual ribose with δ between 55° and 110°\n",
    "    #    C2'-endo: an individual ribose with δ between 120° and 175°\n",
    "    #    Ref: RNA backbone: Consensus all-angle conformers and modular string nomenclature (an RNA Ontology Consortium contribution), RNA 2008\n",
    "    # 2) Define by pucker phase angle: C3' -endo [0°, 36°) as in canonical RNA and A-form DNA, and the C2'-endo [144°, 180°)\n",
    "    c3_endo, c2_endo = [], []\n",
    "    for _delta, _phase in zip(delta[frame_idx], phase[frame_idx]):\n",
    "        if (_delta >= 55 and _delta < 110) or (_phase >=0 and _phase < 36):\n",
    "            c3_endo.append(1)\n",
    "        else:\n",
    "            c3_endo.append(0)\n",
    "        if (_delta >= 120 and _delta < 175) or (_phase >= 144 and _phase < 180):\n",
    "            c2_endo.append(1)\n",
    "        else:\n",
    "            c2_endo.append(0)\n",
    "\n",
    "\n",
    "    name = \"\"\n",
    "    \n",
    "    #\n",
    "    # A-form\n",
    "    #\n",
    "    #if len(stacking_pattern) == 3 and sum(c3_endo) == len(rnames):\n",
    "    #if len(stacking_pattern) == 3:\n",
    "    if stacking_pattern == ['>>', '>>', '>>']:\n",
    "        # AMa: A-form major (3'-end backbone gamma-torsion +gauche)\n",
    "        #if gamma[frame_idx, -1] >= 30 and gamma[frame_idx, -1] < 90:\n",
    "            #name = \"AMa\"\n",
    "            \n",
    "        # AMi: A-form minor (3'-end backbone gamma-torsion is trans)\n",
    "        #if alpha[frame_idx, -1] >= 150 and alpha[frame_idx, -1] < 210:    \n",
    "            #name = \"AMi\"\n",
    "        \n",
    "        if sum(c3_endo) == len(rnames):\n",
    "            name = \"AMa\"\n",
    "        else:\n",
    "            name = \"AMi\"\n",
    "\n",
    "\n",
    "    # Alternative:\n",
    "    # Use nomenclature definition 1a (delta-epsilon-zeta: 3'-em and alpha-beta-gamma-delta: mtp3') from \n",
    "    # Ref: RNA backbone: Consensus all-angle conformers and modular string nomenclature (an RNA Ontology Consortium contribution), RNA 2008\n",
    "    #\n",
    "    # 3': delta 55 to 110\n",
    "    # -e: -120 +- 25 (A-?) -> 215 to 265\n",
    "    # m: -60 (gauche-) -> 270 to 330\n",
    "    # t: 180 (T) -> 150 to 210\n",
    "    # p: 60 (gauche+) -> 30 to 90\n",
    "    # e: 120 +- 25 (A+) -> 95 to 145\n",
    "    \n",
    "    count = 0\n",
    "    # delta (C3'-endo): i+1, i+2, i+3, i+4 -> 3'\n",
    "    if sum(c3_endo) == len(rnames):\n",
    "        count+=1\n",
    "    # epsilon (i, i+1, i+2) -> -e\n",
    "    if np.all(np.logical_and(eps[frame_idx][:len(eps[frame_idx])-1] >= 215, eps[frame_idx][:len(eps[frame_idx])-1] < 265)):\n",
    "        count+=1\n",
    "    # zeta (i, i+1, i+2) -> m\n",
    "    if np.all(np.logical_and(zeta[frame_idx][:len(zeta[frame_idx])-1] >= 270, zeta[frame_idx][:len(zeta[frame_idx])-1] < 330)):\n",
    "        count+=1\n",
    "    # alpha (i+1, i+2, i+3) -> m\n",
    "    if np.all(np.logical_and(alpha[frame_idx][1:] >= 270, alpha[frame_idx][1:] < 330)):\n",
    "        count+=1\n",
    "    # beta (i+1, i+2, i+3) -> t\n",
    "    if np.all(np.logical_and(beta[frame_idx][1:] >= 150, beta[frame_idx][1:] < 210)):\n",
    "        count+=1\n",
    "    # gamma (i, i+1, i+2, i+3) -> p\n",
    "    if np.all(np.logical_and(beta[frame_idx] >= 30, beta[frame_idx] < 90)):\n",
    "        count+=1\n",
    "\n",
    "    if count == 6:\n",
    "        # AMa: A-form major (3'-end backbone gamma-torsion +gauche)\n",
    "        if gamma[frame_idx, -1] >= 30 and gamma[frame_idx, -1] < 90:\n",
    "            name = \"AMa-\"\n",
    "            \n",
    "        # AMi: A-form minor (3'-end backbone gamma-torsion is trans)\n",
    "        if gamma[frame_idx, -1] >= 150 and gamma[frame_idx, -1] < 210:    \n",
    "            name = \"AMi-\"\n",
    "    \n",
    "    #\n",
    "    # I: Intercaleted (nucleotide j inserts between and stacks against nb i and i+1)            \n",
    "    #\n",
    "    # check if stacking residues are from i and i+1\n",
    "    # exclude stacking_residue_index=[0, 3] (i.e., 5'- and 3'-end stacking )\n",
    "    # exclude stacking_residue_index=[0, 2]\n",
    "    #if ([1, 3] in stacking_residue_index and [1, 2] in stacking_residue_index):\n",
    "    if [0, 1] in stacking_residue_index and [0, 2] in stacking_residue_index:\n",
    "        if name != \"\":\n",
    "            print(\"{}: overwrite {} to I1\".format(frame_idx+1, name))\n",
    "        name = \"I1\"\n",
    "    if [0, 2] in stacking_residue_index and [0, 3] in stacking_residue_index:\n",
    "        if name != \"\":\n",
    "            print(\"{}: overwrite {} to I2\".format(frame_idx+1, name))\n",
    "        name = \"I2\"\n",
    "    if [1, 2] in stacking_residue_index and [1, 3] in stacking_residue_index:\n",
    "        if name != \"\":\n",
    "            print(\"{}: overwrite {} to I3\".format(frame_idx+1, name))\n",
    "        name = \"I3\"\n",
    "    if [0, 2] in stacking_residue_index and [1, 2] in stacking_residue_index:\n",
    "        if name != \"\":\n",
    "            print(\"{}: overwrite {} to I4\".format(frame_idx+1, name))\n",
    "        name = \"I4\"\n",
    "    if [0, 3] in stacking_residue_index and [1, 3] in stacking_residue_index:\n",
    "        if name != \"\":\n",
    "            print(\"{}: overwrite {} to I5\".format(frame_idx+1, name))\n",
    "        name = \"I5\"\n",
    "    if [1, 3] in stacking_residue_index and [2, 3] in stacking_residue_index:\n",
    "        if name != \"\":\n",
    "            print(\"{}: overwrite {} to I6\".format(frame_idx+1, name))\n",
    "        name = \"I6\"\n",
    "\n",
    "        \n",
    "    #          \n",
    "    # Base flipping (distance, \n",
    "    # https://pubs.acs.org/doi/10.1021/acs.jpcb.2c00340\n",
    "    #\n",
    "    \n",
    "    # F1: Nucleotide-1 flipped (ribose ring of the terminal nucleotide adopts the C2'-endo configuration and the base is flipped away from the other three)\n",
    "    # 1) 5'-end is C2 endo\n",
    "    # 2) Exlculde stacking_residue_index=[0,1] and confirm all other nb are stacking (i.e., stacking_pattern = ['>>', '>>'])\n",
    "    # 3) N1 distance between first and second nb is greater than flippling_dist_cutoff\n",
    "    if c2_endo[0] == 1 and len(stacking_pattern) == 2 and [0, 1] not in stacking_residue_index and dist1[frame_idx] > flipping_cutoff:\n",
    "        if name != \"\":\n",
    "            print(\"{}: overwrite {} to F1\".format(frame_idx+1, name))\n",
    "        name = \"F1\"\n",
    "\n",
    "    #if c2_endo[1] == 1 and len(stacking_pattern) == 2 and [1, 2] not in stacking_residue_index and dist1[frame_idx] > flipping_cutoff and dist2[frame_idx] > flipping_distance:\n",
    "    #    if name != \"\":\n",
    "    #        print(\"{}: overwrite {} to F2\".format(frame_idx+1, name))\n",
    "    #    name = \"F2\"        \n",
    "        \n",
    "    #if c2_endo[2] == 1 and len(stacking_pattern) == 2 and [2, 3] not in stacking_residue_index and dist2[frame_idx] > flipping_cutoff and dist3[frame_idx] > flipping_distance:\n",
    "    #    if name != \"\":\n",
    "    #        print(\"{}: overwrite {} to F3\".format(frame_idx+1, name))\n",
    "    #    name = \"F3\"                \n",
    "        \n",
    "    if c2_endo[-1] == 1 and len(stacking_pattern) == 2 and [2, 3] not in stacking_residue_index and dist3[frame_idx] > flipping_cutoff:\n",
    "    #if [2, 3] not in stacking_residue_index and stacking_pattern == ['>>', '>>'] and dist3[frame_idx] > flipping_cutoff:\n",
    "        if name != \"\":\n",
    "            print(\"{}: overwrite {} to F4\".format(frame_idx+1, name))        \n",
    "        name = \"F4\"\n",
    "\n",
    "        \n",
    "        \n",
    "    #\n",
    "    # O: Others (all others)\n",
    "    #\n",
    "    if name == \"\":\n",
    "        name = \"O\"\n",
    "    \n",
    "    \n",
    "    \n",
    "    myclass.append(name)\n",
    "    #print(frame_idx+1, name, stacking_residue_index, stacking_pattern, pairing_residue_index, pairing_pattern, phase[i,:], delta[i,:], gamma[i,:])\n",
    "    #print(frame_idx+1, name)\n",
    "    #print(stacking_residue_index, stacking_pattern)\n",
    "    #print(list(alpha[frame_idx,:]), list(beta[frame_idx,:]), list(gamma[frame_idx,:]), list(delta[frame_idx,:]), list(eps[frame_idx,:]), list(zeta[frame_idx,:]), list(phase[frame_idx,:]), dist1[frame_idx], dist2[frame_idx], dist3[frame_idx], c3_endo, c2_endo)\n",
    "    with open(\"log.txt\", \"a\") as wf:\n",
    "        wf.write(\"{}\\t{}\\t{}\\t{}\\t{}\\t{}\\t{}\\t{}\\t{}\\t{}\\t{}\\t{}\\t{}\\t{}\\t{}\\t{}\\n\".format(frame_idx+1, \n",
    "                                                                                               name, \n",
    "                                                                                               stacking_residue_index, \n",
    "                                                                                               stacking_pattern, \n",
    "                                                                                               list(alpha[frame_idx,:]), \n",
    "                                                                                               list(beta[frame_idx,:]), \n",
    "                                                                                               list(gamma[frame_idx,:]), \n",
    "                                                                                               list(delta[frame_idx,:]), \n",
    "                                                                                               list(eps[frame_idx,:]), \n",
    "                                                                                               list(zeta[frame_idx,:]), \n",
    "                                                                                               list(phase[frame_idx,:]), \n",
    "                                                                                               dist1[frame_idx], \n",
    "                                                                                               dist2[frame_idx], \n",
    "                                                                                               dist3[frame_idx], \n",
    "                                                                                               c3_endo, \n",
    "                                                                                               c2_endo))"
   ]
  },
  {
   "cell_type": "code",
   "execution_count": null,
   "id": "65c50deb-3b3f-4cd0-8b1e-0f039ce2cb91",
   "metadata": {},
   "outputs": [],
   "source": [
    "print(len(myclass))"
   ]
  },
  {
   "cell_type": "code",
   "execution_count": null,
   "id": "b423de1f-1cdc-4567-aebb-accbb5718cff",
   "metadata": {},
   "outputs": [],
   "source": [
    "from collections import Counter\n",
    "d = Counter(myclass)\n",
    "\n",
    "mydata = {\n",
    "    \"AMa\":  d[\"AMa\"], \\\n",
    "    \"AMa-\": d[\"AMa-\"], \\\n",
    "    \"AMi\":  d[\"AMi\"], \\\n",
    "    \"AMi-\": d[\"AMi-\"], \\\n",
    "    \"I1\":   d[\"I1\"], \\\n",
    "    \"I2\":   d[\"I2\"], \\\n",
    "    \"I3\":   d[\"I3\"], \\\n",
    "    \"I4\":   d[\"I4\"], \\\n",
    "    \"I5\":   d[\"I5\"], \\\n",
    "    \"I6\":   d[\"I6\"], \\\n",
    "    \"F1\":   d[\"F1\"], \\\n",
    "    \"F4\":   d[\"F4\"], \\\n",
    "    \"O\":    d[\"O\"]\n",
    "}"
   ]
  },
  {
   "cell_type": "code",
   "execution_count": null,
   "id": "5c1c2d83-a6ed-4e8b-81b2-c3e3b5c5a3c3",
   "metadata": {},
   "outputs": [],
   "source": [
    "mydata = {\n",
    "    \"AMa\": 100*(d[\"AMa\"]+d[\"AMa-\"])/len(myclass), \\\n",
    "    \"AMi\": 100*(d[\"AMi\"]+d[\"AMi-\"])/len(myclass), \\\n",
    "    \"I\":   100*(d[\"I1\"]+d[\"I2\"]+d[\"I3\"]+d[\"I4\"]+d[\"I5\"]+d[\"I6\"])/len(myclass), \\\n",
    "    \"F1\":  100*d[\"F1\"]/len(myclass), \\\n",
    "    \"F4\":  100*d[\"F4\"]/len(myclass), \\\n",
    "    \"O\":   100*d[\"O\"]/len(myclass)\n",
    "}\n",
    "\n",
    "mycolor = [\"green\", \"blue\", \"red\", \"magenta\", \"orange\", \"black\"]"
   ]
  },
  {
   "cell_type": "code",
   "execution_count": null,
   "id": "ed094e88-308d-48d2-b19c-6ff716afb97f",
   "metadata": {},
   "outputs": [],
   "source": [
    "# rmsd scatter plot\n",
    "color = []\n",
    "for _ in myclass:\n",
    "    if _ == \"AMa\":\n",
    "        color.append(\"green\")\n",
    "    elif _ == \"AMi\":\n",
    "        color.append(\"blue\")\n",
    "    elif _ in [\"I1\", \"I2\", \"I3\", \"I4\", \"I5\", \"I6\"]:\n",
    "        color.append(\"red\")\n",
    "    elif _ in \"F1\":\n",
    "        color.append(\"magenta\")\n",
    "    elif _ == \"F4\":\n",
    "        color.append(\"orange\")\n",
    "    elif _ == \"O\":\n",
    "        color.append(\"black\")\n",
    "    else:\n",
    "        print(\"undefined {}\".format(_))\n",
    "        color.append(\"white\")"
   ]
  },
  {
   "cell_type": "code",
   "execution_count": null,
   "id": "5849844e-4615-41ba-8d49-d88c567893ae",
   "metadata": {},
   "outputs": [],
   "source": [
    "# define\n",
    "fig, (ax1, ax2) = plt.subplots(1,2, figsize=(32, 8), gridspec_kw={'width_ratios': [2, 1]})\n",
    "\n",
    "# title\n",
    "fig.suptitle(PLOT_TITLE)\n",
    "\n",
    "# xy-axis (1)\n",
    "ax1.set_xlabel(r'Time [ns]')\n",
    "ax1.xaxis.set_minor_locator(AutoMinorLocator())\n",
    "ax1.set_xlim([0, len(x)]) \n",
    "ax1.set_ylabel(r'RMSD [${\\rm \\AA}$]')\n",
    "ax1.yaxis.set_minor_locator(AutoMinorLocator())\n",
    "ax1.set_ylim([0, 6])\n",
    "\n",
    "# xy-axis (2)\n",
    "#ax2.set_xlabel(r'')\n",
    "#ax2.xaxis.set_minor_locator(AutoMinorLocator())\n",
    "#ax2.set_xlim([0, len(x)]) \n",
    "ax2.set_ylabel('(%)')\n",
    "ax2.yaxis.set_label_position(\"right\")\n",
    "#ax2.yaxis.set_minor_locator(AutoMinorLocator())\n",
    "ax2.yaxis.set_minor_locator(MultipleLocator(10))\n",
    "ax2.yaxis.set_ticks_position(\"right\")\n",
    "ax2.set_ylim([0, 100])\n",
    "\n",
    "i = 0\n",
    "for k, v in mydata.items():\n",
    "    ax2.text(x=i-0.3, y=v+3, s=f'{v:.1f}', size=24)\n",
    "    i += 1\n",
    "\n",
    "\n",
    "# plot\n",
    "ax1.scatter(x, rmsd, color=color)\n",
    "ax2.bar(mydata.keys(), mydata.values(), width=1.0, color=mycolor)\n",
    "\n",
    "\n",
    "#plt.subplots_adjust(left=0.1,\n",
    "#                    bottom=0.1, \n",
    "#                    right=0.9, \n",
    "#                    top=0.9, \n",
    "#                    wspace=0.4, \n",
    "#                    hspace=0.4)\n",
    "#plt.tight_layout()\n",
    "plt.subplots_adjust(hspace=0.1, wspace=0.1)\n",
    "#plt.show()\n",
    "plt.savefig(\"rmsd_conformation_population.png\")"
   ]
  },
  {
   "cell_type": "markdown",
   "id": "fcd0a5d7-4570-4a17-aa63-c4c0c0a97053",
   "metadata": {
    "tags": []
   },
   "source": [
    "# J-Coupling"
   ]
  },
  {
   "cell_type": "code",
   "execution_count": null,
   "id": "94c4ca79-ac6e-4567-ac85-bbefbfcabfaf",
   "metadata": {},
   "outputs": [],
   "source": [
    "d_exp = {\"beta1\":   [0, 3.8, 3.9, 3.8],\n",
    "         \"beta2\":   [0, 1.2, 0.5, 1.1],\n",
    "         \"gamma1\":  [0, 1, 2.1, 2.0],\n",
    "         \"gamma2\":  [0, 1, 1, 1.4],\n",
    "         \"epsilon\": [8.8, 9.3, 9.3, 0],\n",
    "         \"nu1\":     [1, 1, 1, 2.6],\n",
    "         \"nu2\":     [3.6, 4.3, 4.7, 4.9],\n",
    "         \"nu3\":     [8.7, 0, 8.8, 7.2]\n",
    "        }\n",
    "\n",
    "d_rev = {\"beta1\":   [0, 3.6, 3.9, 3.5],\n",
    "         \"beta2\":   [0, 2.1, 1.9, 2.3],\n",
    "         \"gamma1\":  [2.6, 2.5, 2.6, 2.5],\n",
    "         \"gamma2\":  [2.2, 1, 1.0, 1.1],\n",
    "         \"epsilon\": [8.4, 8.8, 8.1, 0],\n",
    "         \"nu1\":     [1.7, 1.6, 1.4, 3.0],\n",
    "         \"nu2\":     [4.5, 4.5, 4.6, 5.0],\n",
    "         \"nu3\":     [8.1, 8.1, 8.2, 6.4]\n",
    "        }\n",
    "\n",
    "d_a14 = {\"beta1\":   [0, 3.5, 4.3, 2.5],\n",
    "         \"beta2\":   [0, 2.1, 1.8, 3.2],\n",
    "         \"gamma1\":  [2.6, 2.4, 2.7, 2.7],\n",
    "         \"gamma2\":  [1.7, 1.3, 0.9, 0.9],\n",
    "         \"epsilon\": [6.4, 6.6, 5.5, 0],\n",
    "         \"nu1\":     [1.5, 3.0, 1.7, 3.3],\n",
    "         \"nu2\":     [4.5, 4.8, 4.6, 5.3],\n",
    "         \"nu3\":     [8.1, 6.2, 7.8, 5.9]\n",
    "        }\n",
    "\n",
    "df_exp = pd.DataFrame(data=d_exp)\n",
    "df_rev = pd.DataFrame(data=d_rev)\n",
    "df_a14 = pd.DataFrame(data=d_a14)"
   ]
  },
  {
   "cell_type": "code",
   "execution_count": null,
   "id": "4045cde2-0f68-4a19-aea7-fa8aad49f4f0",
   "metadata": {},
   "outputs": [],
   "source": [
    "df_exp"
   ]
  },
  {
   "cell_type": "code",
   "execution_count": null,
   "id": "fa2b878c-9e25-4c17-aa33-f8c7c96e1449",
   "metadata": {},
   "outputs": [],
   "source": [
    "mydict={}\n",
    "mydict[\"H1H2\"] = \"nu1\"\n",
    "mydict[\"H2H3\"] = \"nu2\"\n",
    "mydict[\"H3H4\"] = \"nu3\"\n",
    "mydict[\"1H5P\"] = \"beta1\"\n",
    "mydict[\"2H5P\"] = \"beta2\"\n",
    "mydict[\"1H5H4\"] = \"gamma1\"\n",
    "mydict[\"2H5H4\"] = \"gamma2\"\n",
    "mydict[\"H3P\"] = \"epsilon\""
   ]
  },
  {
   "cell_type": "code",
   "execution_count": null,
   "id": "544831db-b6f3-4d6d-abb5-a2ef2b88db8d",
   "metadata": {},
   "outputs": [],
   "source": [
    "couplings, rr = bb.jcouplings_traj(traj, couplings=[\"H1H2\", \"H2H3\", \"H3H4\", \"1H5P\", \"2H5P\", \"1H5H4\", \"2H5H4\", \"H3P\"] )\n",
    "\n",
    "#couplings: (frame idx, residue, jcoupling values)\n",
    "print(couplings.shape)"
   ]
  },
  {
   "cell_type": "code",
   "execution_count": null,
   "id": "f3910388-e2b2-4f4b-ae50-18983cb7f109",
   "metadata": {},
   "outputs": [],
   "source": [
    "couplings[np.isnan(couplings)] = 0"
   ]
  },
  {
   "cell_type": "markdown",
   "id": "bbd84f63-366a-4bca-99c6-1771b05e96be",
   "metadata": {},
   "source": [
    "#### mean and std"
   ]
  },
  {
   "cell_type": "code",
   "execution_count": null,
   "id": "2e471aa4-3c18-4ed3-b0fb-a50189b55e44",
   "metadata": {},
   "outputs": [],
   "source": [
    "#v = []\n",
    "#for i in range(couplings.shape[0]):\n",
    "#    v.append(couplings[i,1,-1])   \n",
    "#v = np.array(v)\n",
    "#v.mean()\n",
    "\n",
    "m = couplings.mean(axis=0)\n",
    "s = couplings.std(axis=0)"
   ]
  },
  {
   "cell_type": "code",
   "execution_count": null,
   "id": "9f0491ae-b918-43f0-bba1-4183aef696e9",
   "metadata": {},
   "outputs": [],
   "source": [
    "pd.options.display.float_format = '{:.2f}'.format\n",
    "\n",
    "df_m = pd.DataFrame(m, columns=list(mydict.values()))\n",
    "df_s = pd.DataFrame(s, columns=list(mydict.values()))"
   ]
  },
  {
   "cell_type": "code",
   "execution_count": null,
   "id": "c7421cce-368e-43a1-bafa-70f681b5c469",
   "metadata": {},
   "outputs": [],
   "source": [
    "df_m"
   ]
  },
  {
   "cell_type": "code",
   "execution_count": null,
   "id": "0b4a6010-7008-482b-83a0-fa6a38aefbd7",
   "metadata": {},
   "outputs": [],
   "source": [
    "df_s"
   ]
  },
  {
   "cell_type": "code",
   "execution_count": null,
   "id": "5f4ab06f-68da-4945-aba8-0ffb66e71134",
   "metadata": {},
   "outputs": [],
   "source": [
    "import matplotlib.colors as mcolors\n",
    "mycolors = mcolors.TABLEAU_COLORS\n",
    "mycolors"
   ]
  },
  {
   "cell_type": "code",
   "execution_count": null,
   "id": "8e064eb6-1bd9-41a5-8038-36e74b29454f",
   "metadata": {},
   "outputs": [],
   "source": [
    "names = [\"beta1\", \"beta2\", \"gamma1\", \"gamma2\", \"epsilon\", \"nu1\", \"nu2\", \"nu3\"]\n",
    "\n",
    "fig, axes = plt.subplots(4,1, figsize=(18, 12), sharex=True)\n",
    "for i, r in enumerate(res):\n",
    "    xpos = 0\n",
    "    \n",
    "    for name, mycolor in zip(names, mycolors):\n",
    "        # hide values with zero\n",
    "        exp_scale, rev_scale, a14_scale, scale = 1, 1, 1, 1\n",
    "        if df_exp[name][i] == 0:\n",
    "            exp_scale = 0\n",
    "        if df_rev[name][i] == 0:\n",
    "            rev_scale = 0\n",
    "        if df_a14[name][i] == 0:\n",
    "            a14_scale = 0\n",
    "        if df_m[name][i] == 0:\n",
    "            scale = 0\n",
    "        \n",
    "        axes[i].scatter(xpos-0.1, df_exp[name][i], marker='x', s=60 * exp_scale, c=mycolors[mycolor])\n",
    "        axes[i].scatter(xpos, df_rev[name][i], marker='^', s=60 * rev_scale, c=mycolors[mycolor])\n",
    "        axes[i].scatter(xpos+0.1, df_a14[name][i], marker='_', s=60 * a14_scale, c=mycolors[mycolor])\n",
    "        axes[i].errorbar(xpos+0.2, df_m[name][i], yerr=df_s[name][i], fmt='o', capsize=6 * scale, markersize=10 * scale, c=mycolors[mycolor])\n",
    "\n",
    "            \n",
    "        # axes\n",
    "        axes[i].set_title('C{}'.format(i+1), x=0.03, y=0.75, fontsize=24)\n",
    "        axes[i].yaxis.set_minor_locator(AutoMinorLocator())\n",
    "        axes[i].yaxis.set_ticks_position(\"left\")\n",
    "        axes[i].set_ylim(-1.5,13.5)\n",
    "        axes[i].set_xlim(-0.5,7.5)\n",
    "        \n",
    "        # increment position\n",
    "        xpos += 1\n",
    "\n",
    "axes[i].set_xticks([0,1,2,3,4,5,6,7], [r\"$\\beta$1\",r\"$\\beta$2\",r\"$\\gamma$1\",r\"$\\gamma$2\",r\"$\\epsilon$\",r\"$\\nu$1\",r\"$\\nu$2\",r\"$\\nu$3\"])        \n",
    "axes[i].set_ylabel(\"$^3$J (Hz)\")\n",
    "axes[i].yaxis.set_label_coords(-0.1, 2)\n",
    "\n",
    "# create scatter and hide marker. this is for legend purpose.\n",
    "axes[i].scatter(xpos, xpos, marker='x', s=60, c=\"k\", label=\"Experimental\")\n",
    "axes[i].scatter(xpos, xpos, marker='^', s=60, c=\"k\", label=\"DEShaw.Revised\")\n",
    "axes[i].scatter(xpos, xpos, marker='_', s=60, c=\"k\", label=\"DEShaw.Amber.OL3\")\n",
    "axes[i].scatter(xpos, xpos, marker='o', s=60, c=\"k\", label=\"Amber.OL3\")\n",
    "axes[i].legend(bbox_to_anchor=(0.23, 4.05), fontsize=16)\n",
    "\n",
    "plt.subplots_adjust(hspace=0.1, wspace=0.1)\n",
    "#plt.show()\n",
    "plt.savefig(\"jcoupling.png\")"
   ]
  },
  {
   "cell_type": "markdown",
   "id": "405cb866-ea9f-4229-a0b9-f1fc57d9bb9e",
   "metadata": {},
   "source": [
    "# J-Coupling (Bayesian inference)fontsize"
   ]
  },
  {
   "cell_type": "code",
   "execution_count": null,
   "id": "5595d95b-657e-4bff-a9ff-abf87ee6cb7a",
   "metadata": {},
   "outputs": [],
   "source": [
    "#Import required packages\n",
    "import pymc3 as pm\n",
    "import arviz as az"
   ]
  },
  {
   "cell_type": "code",
   "execution_count": null,
   "id": "dc8cf2c0-d451-4eb8-ab3d-d4e4ef1324a4",
   "metadata": {},
   "outputs": [],
   "source": [
    "couplings[:,0,-1].shape"
   ]
  },
  {
   "cell_type": "code",
   "execution_count": null,
   "id": "cdf2d15a-c9e6-4959-871b-40911f424afd",
   "metadata": {},
   "outputs": [],
   "source": [
    "#tosses = [ 0,0,0,0,0,0,0,0,0,1]\n",
    "\n",
    "#couplings: (frame idx, residue, jcoupling values)\n",
    "tosses = couplings[:,3,0]\n",
    "tosses"
   ]
  },
  {
   "cell_type": "code",
   "execution_count": null,
   "id": "099bbf6a-6644-4ac2-81ad-d0fd44f6544e",
   "metadata": {},
   "outputs": [],
   "source": [
    "df_m[\"nu1\"][3]"
   ]
  },
  {
   "cell_type": "code",
   "execution_count": null,
   "id": "75bf7f73-e2fd-4109-9655-bb922080cf56",
   "metadata": {},
   "outputs": [],
   "source": [
    "with pm.Model() as model:\n",
    "    # lets define the prior\n",
    "    #hypo = pm.Beta('hypo', 2, 2)\n",
    "    #hypo = pm.Normal('hypo', mu=df_m[\"nu1\"][3], sigma=df_s[\"nu1\"][3])\n",
    "    hypo = pm.Gamma('hypo', mu=df_m[\"nu1\"][3], sigma=df_s[\"nu1\"][3])\n",
    "    \n",
    "    # define probability\n",
    "    #data = pm.Bernoulli('data', hypo, observed=tosses)\n",
    "    #data = pm.Normal('data', hypo, observed=tosses)\n",
    "    data = pm.Poisson('data', hypo, observed=tosses)\n",
    "    \n",
    "    # sample\n",
    "    trace = pm.sample(return_inferencedata=True)"
   ]
  },
  {
   "cell_type": "code",
   "execution_count": null,
   "id": "d10bd46a-ede9-4b8b-b01c-d3c54b5c5eca",
   "metadata": {},
   "outputs": [],
   "source": [
    "data"
   ]
  },
  {
   "cell_type": "code",
   "execution_count": null,
   "id": "be70f139-7938-45e0-8c9b-0337fc4f6ffc",
   "metadata": {},
   "outputs": [],
   "source": [
    "trace"
   ]
  },
  {
   "cell_type": "code",
   "execution_count": null,
   "id": "0b4ff26c-f0dc-40b6-97a9-9c6f27d5c404",
   "metadata": {},
   "outputs": [],
   "source": [
    "# visualize\n",
    "az.plot_posterior(trace, hdi_prob=0.95)"
   ]
  },
  {
   "cell_type": "code",
   "execution_count": null,
   "id": "318023dd-c459-4c1a-92f0-7b777da96665",
   "metadata": {},
   "outputs": [],
   "source": []
  },
  {
   "cell_type": "code",
   "execution_count": null,
   "id": "44c0d595-baca-49ff-b8f8-3faac14fd916",
   "metadata": {},
   "outputs": [],
   "source": []
  },
  {
   "cell_type": "code",
   "execution_count": null,
   "id": "e11663b7-798e-401e-8a17-da3ccfbfa6a5",
   "metadata": {},
   "outputs": [],
   "source": []
  }
 ],
 "metadata": {
  "kernelspec": {
   "display_name": "Python 3 (ipykernel)",
   "language": "python",
   "name": "python3"
  },
  "language_info": {
   "codemirror_mode": {
    "name": "ipython",
    "version": 3
   },
   "file_extension": ".py",
   "mimetype": "text/x-python",
   "name": "python",
   "nbconvert_exporter": "python",
   "pygments_lexer": "ipython3",
   "version": "3.9.13"
  }
 },
 "nbformat": 4,
 "nbformat_minor": 5
}

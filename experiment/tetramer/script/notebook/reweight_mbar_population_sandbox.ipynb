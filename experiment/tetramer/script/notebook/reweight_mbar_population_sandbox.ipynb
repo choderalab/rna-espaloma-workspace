{
 "cells": [
  {
   "cell_type": "markdown",
   "id": "f491bad3-b296-44e5-a8e9-ef30b5e7b155",
   "metadata": {
    "tags": []
   },
   "source": [
    "# Reweight REPX RNA tetramers with PyMBAR"
   ]
  },
  {
   "cell_type": "code",
   "execution_count": 1,
   "id": "ec244967-6e48-452c-8f1a-c606c6a61ca7",
   "metadata": {},
   "outputs": [],
   "source": [
    "import os, sys, math\n",
    "import numpy as np\n",
    "import glob\n",
    "import mdtraj\n",
    "import logging\n",
    "import netCDF4 as nc\n",
    "import warnings\n",
    "import pandas as pd\n",
    "from collections import defaultdict\n",
    "\n",
    "import matplotlib.pyplot as plt\n",
    "%matplotlib inline\n",
    "from matplotlib.ticker import MultipleLocator, FormatStrFormatter, AutoMinorLocator\n",
    "import seaborn as sns\n",
    "\n",
    "import openmmtools as mmtools\n",
    "\n",
    "import barnaba as bb\n",
    "from barnaba import definitions\n",
    "from barnaba.nucleic import Nucleic"
   ]
  },
  {
   "cell_type": "code",
   "execution_count": 2,
   "id": "95d9ba46-caeb-45c0-9ec2-652e5dd04976",
   "metadata": {},
   "outputs": [],
   "source": [
    "#logger = logging.getLogger(__name__)\n",
    "#logging.basicConfig(format='%(levelname)s:%(message)s', level=logging.DEBUG)\n",
    "warnings.filterwarnings(\"ignore\")"
   ]
  },
  {
   "cell_type": "code",
   "execution_count": 3,
   "id": "56538e95-3f38-43ec-8e78-17906635ae72",
   "metadata": {},
   "outputs": [],
   "source": [
    "pd.options.display.max_rows = None\n",
    "pd.options.display.max_columns = None\n",
    "pd.options.display.precision = 1\n",
    "pd.options.display.float_format = '{:.1f}'.format"
   ]
  },
  {
   "cell_type": "code",
   "execution_count": 4,
   "id": "15a7f8ed-cc3f-4768-bb5c-4fdaa0402f12",
   "metadata": {},
   "outputs": [],
   "source": [
    "#plt.rcParamsDefault"
   ]
  },
  {
   "cell_type": "code",
   "execution_count": 5,
   "id": "cab17c5a-2320-488f-8fc2-daaea5d27b9e",
   "metadata": {},
   "outputs": [],
   "source": [
    "params_mydefault = {'legend.fontsize': 40, \n",
    "                    'font.size': 40, \n",
    "                    'axes.labelsize': 48,\n",
    "                    'axes.titlesize': 48,\n",
    "                    'xtick.labelsize': 40,\n",
    "                    'ytick.labelsize': 40,\n",
    "                    'savefig.dpi': 600, \n",
    "                    'figure.figsize': [64, 8],\n",
    "                    'xtick.major.size': 10,\n",
    "                    'xtick.minor.size': 7,\n",
    "                    'ytick.major.size': 10,\n",
    "                    'ytick.minor.size': 7}"
   ]
  },
  {
   "cell_type": "code",
   "execution_count": 6,
   "id": "4a775d9c-4f8f-41db-bece-c18fb3323da0",
   "metadata": {},
   "outputs": [],
   "source": [
    "plt.rcParams.update(params_mydefault)"
   ]
  },
  {
   "cell_type": "code",
   "execution_count": 7,
   "id": "8c99be6e-740a-4f21-9768-c71d18d266d9",
   "metadata": {},
   "outputs": [],
   "source": [
    "backbone_sugar_atoms = [\n",
    "    \"C1'\", \\\n",
    "    \"H1'\", \\\n",
    "    \"C2'\", \\\n",
    "    \"H2'\", \\\n",
    "    \"C3'\", \\\n",
    "    \"H3'\", \\\n",
    "    \"C4'\", \\\n",
    "    \"H4'\", \\\n",
    "    \"C5'\", \\\n",
    "    \"H5'\", \\\n",
    "    \"H5''\", \\\n",
    "    \"O2'\", \\\n",
    "    \"HO2'\", \\\n",
    "    \"O3'\", \\\n",
    "    \"O4'\", \\\n",
    "    \"O5'\", \\\n",
    "    \"P\", \\\n",
    "    \"OP1\", \\\n",
    "    \"OP2\", \\\n",
    "    \"HO5'\", \\\n",
    "    \"HO3'\"\n",
    "]"
   ]
  },
  {
   "cell_type": "code",
   "execution_count": 82,
   "id": "def45db6-70b8-4541-95f6-42aaab29ab70",
   "metadata": {},
   "outputs": [],
   "source": [
    "# structure annotation\n",
    "myclass_mapping_dict = {\"AMa\": 1, \"AMi\":2, \"I\": 3, \"F1\": 4, \"F4\": 5, \"O\": 6}\n",
    "\n",
    "# define color\n",
    "mycolor_dict = { \"AMa\": \"green\", \"AMi\": \"blue\", \"I\": \"red\", \"F1\": \"magenta\", \"F4\": \"orange\", \"O\": \"black\" }\n",
    "\n",
    "# settings\n",
    "PLOT_TITLE = \"CCCC Amber ff14\"\n",
    "UNIT_NM_TO_ANGSTROMS = 10\n",
    "UNIT_PS_TO_NS = 1/1000"
   ]
  },
  {
   "cell_type": "code",
   "execution_count": 9,
   "id": "718df2ae-2bea-4076-beb6-fa1a78ea3487",
   "metadata": {},
   "outputs": [],
   "source": [
    "def radian_to_degree(a):\n",
    "    \"\"\"\n",
    "    a : list\n",
    "        [trajectory frame : residue : torsion]\n",
    "    \"\"\"\n",
    "    \n",
    "    a[np.where(a<0.0)] += 2.*np.pi\n",
    "    a *= 180.0/np.pi\n",
    "\n",
    "    # same as above\n",
    "    #a = a*(180./np.pi)\n",
    "    #a[np.where(a<0.0)] += 360\n",
    "    \n",
    "    return a"
   ]
  },
  {
   "cell_type": "markdown",
   "id": "88cb730b-7ed3-40a0-b96e-0538039d023f",
   "metadata": {},
   "source": [
    "### define"
   ]
  },
  {
   "cell_type": "code",
   "execution_count": 72,
   "id": "e0d22c4b-bce6-43e1-a657-ca92f2636e04",
   "metadata": {},
   "outputs": [],
   "source": [
    "# ==============================================================================\n",
    "# STRUCTURE ANNOTATION\n",
    "# ==============================================================================\n",
    "\n",
    "def _check_endo(angle_d, angle_p):\n",
    "    \"\"\"\n",
    "    Define C3'-endo and C2'-endo.\n",
    "\n",
    "    δ torsion angles is used to defined the endo states described in:\n",
    "    RNA backbone: Consensus all-angle conformers and modular string nomenclature (an RNA Ontology Consortium contribution), RNA 2008, doi: 10.1261/rna.657708\n",
    "\n",
    "    C3'-endo:\n",
    "        an individual ribose with δ between 55° and 110°\n",
    "    C2'-endo:\n",
    "        an individual ribose with δ between 120° and 175°\n",
    "        \n",
    "    Alternatively C3'- and C2'- endo can be defined using the pucker phase angle. C3'-endo [0°, 36°) as in canonical RNA and A-form DNA, and the C2'-endo [144°, 180°).\n",
    "\n",
    "    Returns\n",
    "    -------\n",
    "    c3_endo : list\n",
    "        '1' if if δ torsion angle forms a C3'-endo form, else '0'\n",
    "\n",
    "    c2_endo : list\n",
    "        '1' if if δ torsion angle forms a C2'-endo form, else '0'\n",
    "    \"\"\"\n",
    "\n",
    "    c3_endo = []\n",
    "    for _delta, _phase in zip(angle_d, angle_p):\n",
    "        # C3 endo\n",
    "        if (_delta >= 55 and _delta < 110) or (_phase >=0 and _phase < 36):\n",
    "            c3_endo.append(1)\n",
    "        else:\n",
    "            c3_endo.append(0)\n",
    "\n",
    "    c2_endo = []\n",
    "    for _delta, _phase in zip(angle_d, angle_p):\n",
    "        # C2 endo\n",
    "        if (_delta >= 120 and _delta < 175) or (_phase >= 144 and _phase < 180):\n",
    "            c2_endo.append(1)\n",
    "        else:\n",
    "            c2_endo.append(0)\n",
    "        \n",
    "    return c3_endo, c2_endo\n",
    "\n",
    "\n",
    "def _intercalete(stacking_residue_index):    \n",
    "    \"\"\"\n",
    "    Define intercaleted structures.\n",
    "    \n",
    "    RNA structures are intercalated if nucleotide `j` inserts between and stacks against nb `i` and `i+1`.\n",
    "    \n",
    "    Parameters\n",
    "    ----------\n",
    "\n",
    "    stacking_residue_index : list\n",
    "        List of stacking residue index (e.g. [[0, 1], [1, 2]]).\n",
    "\n",
    "    Returns\n",
    "    -------\n",
    "\n",
    "    name : str\n",
    "        Category name\n",
    "    \"\"\"\n",
    "    \n",
    "    name = \"\"\n",
    "    \n",
    "    # 1-'0'-2-3\n",
    "    # 2-'0'-1-3\n",
    "    if [[0, 1], [0, 2]] == stacking_residue_index:\n",
    "        name = \"I0102\"\n",
    "            \n",
    "    # 1-'2'-0-3\n",
    "    # 0-'2'-1-3\n",
    "    if [[0, 2], [1, 2]] == stacking_residue_index:\n",
    "        name = \"I0212\"\n",
    "\n",
    "    # 1-2-'0'-3\n",
    "    if [[0, 2], [0, 3]] == stacking_residue_index:\n",
    "        name = \"I0203\"\n",
    "\n",
    "    # 0-'3'-1-2\n",
    "    if [[0, 3], [1, 3]] == stacking_residue_index:\n",
    "        name = \"I0313\"\n",
    "            \n",
    "    # 0-2-'1'-3\n",
    "    # 0-3-'1'-2\n",
    "    if [[1, 2], [1, 3]] == stacking_residue_index:\n",
    "        name = \"I1213\"\n",
    "        \n",
    "    # 0-2-'3'-1\n",
    "    # 0-1-'3'-2\n",
    "    if [[1, 3], [2, 3]] == stacking_residue_index:\n",
    "        name = \"I1323\"\n",
    "        \n",
    "    # 1-'2'-'0'-3\n",
    "    if [[0, 2], [0, 3], [1, 2]] == stacking_residue_index:\n",
    "        name = \"I020312\"        \n",
    "\n",
    "    # 0-'2'-'1'-3\n",
    "    if [[0, 2], [1, 2], [1, 3]] == stacking_residue_index:\n",
    "        name = \"I021213\"\n",
    "\n",
    "    # 0-'3'-'1'-2\n",
    "    if [[0, 3], [1, 2], [1, 3]] == stacking_residue_index:\n",
    "        name = \"I031213\"\n",
    "    \n",
    "    return name\n",
    "\n",
    "\n",
    "\n",
    "def _tangled(stacking_residue_index):    \n",
    "    \"\"\"\n",
    "    Define tangled structures. (>2 nb stacking with 5' and 3' stacking)            \n",
    "    \n",
    "    RNA structures are tangled if 5' and 3' nb are stacking and number of stacking nb are 3.\n",
    "    \n",
    "    Parameters\n",
    "    ----------\n",
    "\n",
    "    stacking_residue_index : list\n",
    "        List of stacking residue index (e.g. [[0, 1], [1, 2]]).\n",
    "\n",
    "    Returns\n",
    "    -------\n",
    "\n",
    "    name : str\n",
    "        Category name\n",
    "    \"\"\"\n",
    "    \n",
    "    name = \"\"        \n",
    "\n",
    "    # 1-2-'3'-0\n",
    "    #if [[0, 3], [1, 2]] == stacking_residue_index:\n",
    "    #    name = \"T0312\"\n",
    "\n",
    "    #if [[0, 3], [2, 3]] == stacking_residue_index:\n",
    "    #    name = \"T0323\"\n",
    "    \n",
    "    if [[0, 3], [1, 2], [2, 3]] == stacking_residue_index:\n",
    "        name = \"T031223\"\n",
    "    \n",
    "    # 3-'0'-1-2\n",
    "    #if [[0, 1], [0, 3]] == stacking_residue_index:\n",
    "    #    name = \"T0103\"\n",
    "    \n",
    "    #if [[0, 1], [1, 2]] == stacking_residue_index:\n",
    "    #    name = \"T0103\"\n",
    "    \n",
    "    if [[0, 1], [0, 3], [1, 2]] == stacking_residue_index:\n",
    "        name = \"T010312\"\n",
    "        \n",
    "    return name\n",
    "\n",
    "\n",
    "\n",
    "def annotate(replica_index, alpha, beta, gamma, delta, eps, zeta, chi, phase, stacking):\n",
    "    \"\"\"\n",
    "    Annotate RNA structures.\n",
    "\n",
    "    Cateogries RNA tetramer structure into 6 categories based on their geometries.\n",
    "\n",
    "    AMa: A-form major\n",
    "    AMi: A-form minor\n",
    "    I:   Intercaleted\n",
    "    F1:  First nb flipped\n",
    "    F4:  Last nb flipped\n",
    "    O:   Others\n",
    "\n",
    "    Parameters\n",
    "    -----------\n",
    "    replica_index : int\n",
    "        Replica index number.\n",
    "    alpha : np.ndarray\n",
    "        Backbone alpha angles in degrees of shape [n_iterations, n_residues, n_angles].\n",
    "    beta : np.ndarray\n",
    "        Backbone beta angles in degrees of shape [n_iterations, n_residues, n_angles].\n",
    "    gamma : np.ndarray\n",
    "        Backbone gamma angles in degrees of shape [n_iterations, n_residues, n_angles].\n",
    "    delta : np.ndarray\n",
    "        Backbone delta angles in degrees of shape [n_iterations, n_residues, n_angles].\n",
    "    eps : np.ndarray\n",
    "        Backbone epsilon angles in degrees of shape [n_iterations, n_residues, n_angles].\n",
    "    zeta : np.ndarray\n",
    "        Backbone zeta angles in degrees of shape [n_iterations, n_residues, n_angles].\n",
    "    chi : np.ndarray\n",
    "        Nucleobase chi angles in degrees of shape [n_iterations, n_residues, n_angles].\n",
    "    phase : np.ndarray\n",
    "        Sugar pucker angles in degrees of shape of shape [n_iterations, n_residues, n_angles].\n",
    "    stacking : np.ndarray\n",
    "        Stacking information shape of [n_iterations, stacking_pattern]. Stacking_pattern contains stacking residue index and stacking form (e.g. [[[0, 1], [1, 2], [2, 3]], ['>>', '>>', '>>']]).\n",
    "\n",
    "    Return\n",
    "    ----------\n",
    "    xxxx\n",
    "    \n",
    "    \"\"\"\n",
    "    ref_pdb = mdtraj.load('../../../../eq/min.pdb')\n",
    "    rnames = [ residue.name for residue in ref_pdb.topology.residues if residue.name not in [\"HOH\", \"NA\", \"CL\"]]\n",
    "    \n",
    "    obs_dict = defaultdict(list)\n",
    "    unknown_category = defaultdict(list)\n",
    "    myclass, myclass_by_number = [], []\n",
    "    \n",
    "    for frame_idx in range(len(stacking)):\n",
    "        ####\n",
    "        #stackings[frame_idx] : list\n",
    "        #    e.g. [[[0, 1], [1, 2], [2, 3]], ['>>', '>>', '>>']]\n",
    "        ####\n",
    "        \n",
    "        names = []\n",
    "        stacking_residue_index = stacking[frame_idx][0]\n",
    "        stacking_pattern = stacking[frame_idx][1]\n",
    "\n",
    "        \n",
    "        # A-form\n",
    "        if stacking_residue_index == [[0, 1], [1, 2], [2, 3]]:\n",
    "            c3_binary, c2_binary = _check_endo(delta[frame_idx], phase[frame_idx])\n",
    "            if stacking_pattern == ['>>', '>>', '>>'] and sum(c3_binary) == 4:\n",
    "                names.append(\"AMa\")\n",
    "            else:\n",
    "                names.append(\"AMi\")\n",
    "\n",
    "        # Partial stacking\n",
    "        if stacking_residue_index == [[1, 2], [2, 3]] and stacking_pattern == ['>>', '>>']:\n",
    "            names.append(\"F1\")\n",
    "        if stacking_residue_index == [[0, 1], [1, 2]] and stacking_pattern == ['>>', '>>']:\n",
    "            names.append(\"F4\")\n",
    "\n",
    "        # Intercalete\n",
    "        if len(stacking_pattern) >= 2:\n",
    "            _name = _intercalete(stacking_residue_index)\n",
    "            if _name.startswith(\"I\"):\n",
    "                names.append(\"I\")\n",
    "\n",
    "        # Other\n",
    "        if len(stacking_pattern) == 0 or len(stacking_pattern) == 1:\n",
    "            names.append(\"O\")\n",
    "        if len(names) == 0:\n",
    "            names.append(\"O\")\n",
    "            unknown_category[str(stacking_pattern) + str(stacking_residue_index)].append(frame_idx+1)\n",
    "\n",
    "        assert len(names) == 1, \"{}: multiple annotation {}\\t{}\\t{}\".format(frame_idx+1, names, stacking_pattern, stacking_residue_index)\n",
    "        \n",
    "        for category in myclass_mapping_dict.keys():\n",
    "            if names[0] == category:\n",
    "                obs_dict[category].append(1)\n",
    "            else:\n",
    "                obs_dict[category].append(0)        \n",
    "        \n",
    "        myclass.append(names[0])\n",
    "        myclass_by_number.append(myclass_mapping_dict[names[0]])\n",
    "\n",
    "    return myclass, myclass_by_number, obs_dict, unknown_category"
   ]
  },
  {
   "cell_type": "code",
   "execution_count": 73,
   "id": "db9a950b-cf7c-43cb-872c-a69d36da15a9",
   "metadata": {},
   "outputs": [],
   "source": [
    "def plot(myclass):\n",
    "    from collections import Counter\n",
    "    d = Counter(myclass)\n",
    "\n",
    "    mydata = {\n",
    "        \"AMa\": d[\"AMa\"], \\\n",
    "        \"AMi\": d[\"AMi\"], \\\n",
    "        \"I\":   d[\"I\"], \\\n",
    "        \"F1\":  d[\"F1\"], \\\n",
    "        \"F4\":  d[\"F4\"], \\\n",
    "        \"O\":   d[\"O\"]\n",
    "    }\n",
    "\n",
    "    mydata = {\n",
    "        \"AMa\": 100*d[\"AMa\"]/len(myclass), \\\n",
    "        \"AMi\": 100*d[\"AMi\"]/len(myclass), \\\n",
    "        \"I\":   100*d[\"I\"]/len(myclass), \\\n",
    "        \"F1\":  100*d[\"F1\"]/len(myclass), \\\n",
    "        \"F4\":  100*d[\"F4\"]/len(myclass), \\\n",
    "        \"O\":   100*d[\"O\"]/len(myclass)\n",
    "    }\n",
    "\n",
    "    mycolor = [\"green\", \"blue\", \"red\", \"magenta\", \"orange\", \"black\"]\n",
    "\n",
    "    # rmsd scatter plot\n",
    "    color = []\n",
    "    for _ in myclass:\n",
    "        if _ == \"AMa\":\n",
    "            color.append(\"green\")\n",
    "        elif _ == \"AMi\":\n",
    "            color.append(\"blue\")\n",
    "        elif _ == \"I\":\n",
    "            color.append(\"red\")\n",
    "        elif _ == \"F1\":\n",
    "            color.append(\"magenta\")\n",
    "        elif _ == \"F4\":\n",
    "            color.append(\"orange\")\n",
    "        #elif _ in [\"O\", \"F1i\", \"F4i\", \"T\"]:\n",
    "        elif _ == \"O\":\n",
    "            color.append(\"black\")\n",
    "        else:\n",
    "            print(\"undefined {}\".format(_))\n",
    "            color.append(\"white\")\n",
    "\n",
    "    \"\"\"\n",
    "    histogram of conformational population\n",
    "    \"\"\"\n",
    "    # define\n",
    "    fig, ax = plt.subplots(figsize=(16, 8))\n",
    "    ax.set_ylabel('(%)')\n",
    "    ax.yaxis.set_label_position(\"left\")\n",
    "    ax.yaxis.set_minor_locator(MultipleLocator(10))\n",
    "    ax.yaxis.set_ticks_position(\"left\")\n",
    "    ax.set_ylim([0, 100])\n",
    "\n",
    "    i = 0\n",
    "    for k, v in mydata.items():\n",
    "        ax.text(x=i-0.3, y=v+3, s=f'{v:.1f}', size=24)\n",
    "        i += 1\n",
    "\n",
    "    # plot\n",
    "    ax.bar(mydata.keys(), mydata.values(), width=1.0, color=mycolor)\n",
    "    plt.tight_layout()\n",
    "    plt.title(PLOT_TITLE)\n",
    "    plt.subplots_adjust(hspace=0.1, wspace=0.1)\n",
    "    plt.show()\n",
    "    #plt.savefig(\"conformation_population.png\")\n",
    "        \n",
    "    return mydata"
   ]
  },
  {
   "cell_type": "code",
   "execution_count": 74,
   "id": "cf232c86-d52f-434a-81a3-a608c675e8ce",
   "metadata": {},
   "outputs": [],
   "source": [
    "def extract_data(replica_index, bb_angles, pucker_angles, stackings):\n",
    "    \"\"\"\n",
    "    Extract pre-calculated properties.\n",
    "\n",
    "    Parameters\n",
    "    ----------\n",
    "    replica_index : int\n",
    "        Replica index number\n",
    "    bb_angles : np.ndarray of shape [n_replicas, n_iterations, n_residues, n_angles]\n",
    "        Backbone angles in degrees\n",
    "    pucker_angles : np.ndarray of shape [n_replicas, n_iterations, n_residues, n_angles]\n",
    "        Pucker angles in degrees\n",
    "    stackings : np.ndarray of shape [n_replicas, n_iterations, stacking_info]\n",
    "        Stacking_info stores stacking residue index and stacking pattern (e.g. [[[0, 1], [1, 2], [2, 3]], ['>>', '>>', '>>']])\n",
    "\n",
    "    Returns\n",
    "    -------\n",
    "    \"\"\"\n",
    "    alpha = bb_angles[replica_index,:,:,0]  # [n_iterations, n_residues]\n",
    "    beta = bb_angles[replica_index,:,:,1]\n",
    "    gamma = bb_angles[replica_index,:,:,2]\n",
    "    delta = bb_angles[replica_index,:,:,3]\n",
    "    eps = bb_angles[replica_index,:,:,4]\n",
    "    zeta = bb_angles[replica_index,:,:,5]\n",
    "    chi = bb_angles[replica_index,:,:,6]\n",
    "    phase = pucker_angles[replica_index,:,:,0]\n",
    "    stacking = stackings[replica_index,:,:]\n",
    "    \n",
    "    return alpha, beta, gamma, delta, eps, zeta, chi, phase, stacking"
   ]
  },
  {
   "cell_type": "markdown",
   "id": "c28e5e67-2b8a-4d6a-b16a-e86c86915fd9",
   "metadata": {},
   "source": [
    "### load data"
   ]
  },
  {
   "cell_type": "code",
   "execution_count": 75,
   "id": "5a30c346-e6dd-43ef-8ae5-81b9b2a3cbe0",
   "metadata": {},
   "outputs": [],
   "source": [
    "md_trial = 1"
   ]
  },
  {
   "cell_type": "code",
   "execution_count": 76,
   "id": "1fd9e653-275e-4150-afd0-3bb7bfde39a7",
   "metadata": {},
   "outputs": [],
   "source": [
    "ncfile = \"../{}/enhanced.nc\".format(md_trial)\n",
    "npzfile = \"../analysis/mydata{}_replica.npz\".format(md_trial)"
   ]
  },
  {
   "cell_type": "code",
   "execution_count": 77,
   "id": "90b65850-2788-4f02-adc2-0a979cf0e7de",
   "metadata": {},
   "outputs": [
    {
     "name": "stderr",
     "output_type": "stream",
     "text": [
      "Warning: The openmmtools.multistate API is experimental and may change in future releases\n",
      "Warning: The openmmtools.multistate API is experimental and may change in future releases\n"
     ]
    }
   ],
   "source": [
    "reporter = mmtools.multistate.MultiStateReporter(ncfile, open_mode='r')\n",
    "analyzer = mmtools.multistate.MultiStateSamplerAnalyzer(reporter)"
   ]
  },
  {
   "cell_type": "markdown",
   "id": "070594a2-01d5-4e7c-a91e-4c0b55462298",
   "metadata": {},
   "source": [
    "### annotate structures"
   ]
  },
  {
   "cell_type": "code",
   "execution_count": 78,
   "id": "1cf05893-13ce-44e2-a89b-be06a5d4aa29",
   "metadata": {},
   "outputs": [
    {
     "name": "stdout",
     "output_type": "stream",
     "text": [
      "bb_angles\n",
      "pucker_angles\n",
      "rg\n",
      "rmsd\n",
      "ermsd\n",
      "stackings\n",
      "couplings\n"
     ]
    }
   ],
   "source": [
    "npzfile = np.load(npzfile, allow_pickle=True)\n",
    "for k in npzfile.files:\n",
    "    print(k)"
   ]
  },
  {
   "cell_type": "code",
   "execution_count": 79,
   "id": "3166c7ba-21c5-46be-b2c7-7de150661ba6",
   "metadata": {},
   "outputs": [],
   "source": [
    "bb_angles = npzfile[\"bb_angles\"]         # [n_replicas, n_iterations, n_residues, n_angles]\n",
    "pucker_angles = npzfile[\"pucker_angles\"] # [n_replicas, n_iterations, n_residues, n_angles]\n",
    "stackings = npzfile[\"stackings\"]         # [n_replicas, n_iterations, stacking_info]"
   ]
  },
  {
   "cell_type": "code",
   "execution_count": 80,
   "id": "d7e35be6-76a8-4a72-bbe0-211dd74d4324",
   "metadata": {},
   "outputs": [
    {
     "name": "stdout",
     "output_type": "stream",
     "text": [
      "(33, 30000, 4, 7)\n"
     ]
    }
   ],
   "source": [
    "# check data shape\n",
    "print(bb_angles.shape)"
   ]
  },
  {
   "cell_type": "code",
   "execution_count": 83,
   "id": "96cea4d8-218f-4b78-8779-26bcb485f09d",
   "metadata": {
    "scrolled": true,
    "tags": []
   },
   "outputs": [
    {
     "name": "stdout",
     "output_type": "stream",
     "text": [
      ">annotate structure\n",
      "replica 0:\t{'AMa': 1321, 'AMi': 829, 'I': 412, 'F1': 964, 'F4': 951, 'O': 25523}\n",
      "replica 1:\t{'AMa': 2523, 'AMi': 62, 'I': 18, 'F1': 755, 'F4': 1112, 'O': 25530}\n",
      "replica 2:\t{'AMa': 6928, 'AMi': 262, 'I': 27, 'F1': 1519, 'F4': 3339, 'O': 17925}\n",
      "replica 3:\t{'AMa': 3656, 'AMi': 24, 'I': 80, 'F1': 1042, 'F4': 1528, 'O': 23670}\n",
      "replica 4:\t{'AMa': 44, 'AMi': 6854, 'I': 40, 'F1': 246, 'F4': 581, 'O': 22235}\n",
      "replica 5:\t{'AMa': 183, 'AMi': 385, 'I': 6699, 'F1': 624, 'F4': 3205, 'O': 18904}\n",
      "replica 6:\t{'AMa': 1758, 'AMi': 1, 'I': 5, 'F1': 2858, 'F4': 1596, 'O': 23782}\n",
      "replica 7:\t{'AMa': 40, 'AMi': 2011, 'I': 1027, 'F1': 25, 'F4': 3715, 'O': 23182}\n",
      "replica 8:\t{'AMa': 110, 'AMi': 340, 'I': 35, 'F1': 123, 'F4': 282, 'O': 29110}\n",
      "replica 9:\t{'AMa': 468, 'AMi': 5032, 'I': 62, 'F1': 247, 'F4': 7042, 'O': 17149}\n",
      "replica 10:\t{'AMa': 60, 'AMi': 69, 'I': 1907, 'F1': 250, 'F4': 89, 'O': 27625}\n",
      "replica 11:\t{'AMa': 11, 'AMi': 3, 'I': 2444, 'F1': 49, 'F4': 26, 'O': 27467}\n",
      "replica 12:\t{'AMa': 2444, 'AMi': 79, 'I': 9149, 'F1': 349, 'F4': 1493, 'O': 16486}\n",
      "replica 13:\t{'AMa': 421, 'AMi': 245, 'I': 2134, 'F1': 706, 'F4': 661, 'O': 25833}\n",
      "replica 14:\t{'AMa': 8439, 'AMi': 461, 'I': 347, 'F1': 1521, 'F4': 2894, 'O': 16338}\n",
      "replica 15:\t{'AMa': 240, 'AMi': 10, 'I': 125, 'F1': 876, 'F4': 502, 'O': 28247}\n",
      "replica 16:\t{'AMa': 2112, 'AMi': 3, 'I': 162, 'F1': 1374, 'F4': 2049, 'O': 24300}\n",
      "replica 17:\t{'AMa': 3045, 'AMi': 5, 'I': 1318, 'F1': 986, 'F4': 1585, 'O': 23061}\n",
      "replica 18:\t{'AMa': 266, 'AMi': 2246, 'I': 37, 'F1': 80, 'F4': 1223, 'O': 26148}\n",
      "replica 19:\t{'AMa': 2374, 'AMi': 6071, 'I': 2948, 'F1': 1462, 'F4': 2436, 'O': 14709}\n",
      "replica 20:\t{'AMa': 6831, 'AMi': 194, 'I': 5, 'F1': 2464, 'F4': 4334, 'O': 16172}\n",
      "replica 21:\t{'AMa': 11101, 'AMi': 0, 'I': 5, 'F1': 2729, 'F4': 4278, 'O': 11887}\n",
      "replica 22:\t{'AMa': 3145, 'AMi': 118, 'I': 17, 'F1': 822, 'F4': 2361, 'O': 23537}\n",
      "replica 23:\t{'AMa': 3815, 'AMi': 0, 'I': 133, 'F1': 709, 'F4': 884, 'O': 24459}\n",
      "replica 24:\t{'AMa': 293, 'AMi': 4258, 'I': 343, 'F1': 879, 'F4': 616, 'O': 23611}\n",
      "replica 25:\t{'AMa': 3955, 'AMi': 0, 'I': 2774, 'F1': 903, 'F4': 1586, 'O': 20782}\n",
      "replica 26:\t{'AMa': 1355, 'AMi': 1, 'I': 2506, 'F1': 530, 'F4': 250, 'O': 25358}\n",
      "replica 27:\t{'AMa': 158, 'AMi': 102, 'I': 3573, 'F1': 30, 'F4': 170, 'O': 25967}\n",
      "replica 28:\t{'AMa': 288, 'AMi': 5, 'I': 218, 'F1': 248, 'F4': 250, 'O': 28991}\n",
      "replica 29:\t{'AMa': 1570, 'AMi': 79, 'I': 39, 'F1': 1015, 'F4': 1086, 'O': 26211}\n",
      "replica 30:\t{'AMa': 476, 'AMi': 1, 'I': 11025, 'F1': 507, 'F4': 285, 'O': 17706}\n",
      "replica 31:\t{'AMa': 74, 'AMi': 1, 'I': 431, 'F1': 55, 'F4': 105, 'O': 29334}\n",
      "replica 32:\t{'AMa': 1593, 'AMi': 0, 'I': 63, 'F1': 259, 'F4': 588, 'O': 27497}\n"
     ]
    }
   ],
   "source": [
    "print(\">annotate structure\")\n",
    "\n",
    "myclasses_by_number = []\n",
    "result_dict = defaultdict(list)\n",
    "for replica_index in range(analyzer.n_replicas):\n",
    "    alpha, beta, gamma, delta, eps, zeta, chi, phase, stacking = extract_data(replica_index, bb_angles, pucker_angles, stackings)\n",
    "    \n",
    "    # myclass: list of annotated category by names.\n",
    "    # myclass_binary: list of annotated category by integers.\n",
    "    # obs_dict: defaultdict that stores all categories. Cateogry names are used as keys and stores lists of 1 (True) or 0 (False) if the structure is annotated to that category class.\n",
    "    # unknown_category: defaultdict that was assigned to any of the given categories.\n",
    "    myclass, myclass_by_number, obs_dict, unknown_cateorgy = annotate(replica_index, alpha, beta, gamma, delta, eps, zeta, chi, phase, stacking)\n",
    "\n",
    "    # store category numbers for each replica\n",
    "    myclasses_by_number.append(myclass_by_number) \n",
    "\n",
    "    # store defaultdict(list) for each replica\n",
    "    result_dict[replica_index] = obs_dict\n",
    "\n",
    "    # count each class (annotation category)\n",
    "    from collections import Counter\n",
    "    d = Counter(myclass)\n",
    "    mydata = {\n",
    "        \"AMa\": d[\"AMa\"], \\\n",
    "        \"AMi\": d[\"AMi\"], \\\n",
    "        \"I\":   d[\"I\"], \\\n",
    "        \"F1\":  d[\"F1\"], \\\n",
    "        \"F4\":  d[\"F4\"], \\\n",
    "        \"O\":   d[\"O\"]\n",
    "    }\n",
    "    \n",
    "    print(\"replica {}:\\t{}\".format(replica_index, mydata))"
   ]
  },
  {
   "cell_type": "code",
   "execution_count": 85,
   "id": "17925a40-71ce-4200-9de2-031d481b2013",
   "metadata": {},
   "outputs": [],
   "source": [
    "# check shape\n",
    "myclasses_by_number = np.array(myclasses_by_number)\n",
    "assert analyzer.n_replicas == myclasses_by_number.shape[0]"
   ]
  },
  {
   "cell_type": "markdown",
   "id": "d1de12ca-ad91-417b-bc0d-4e83ae37f079",
   "metadata": {},
   "source": [
    "#### compute decorrelated energies"
   ]
  },
  {
   "cell_type": "code",
   "execution_count": 24,
   "id": "bbb241a8-d8fb-4ec8-b0fc-19a0a11948d9",
   "metadata": {},
   "outputs": [
    {
     "name": "stdout",
     "output_type": "stream",
     "text": [
      "(33, 249744) (33,) 249744\n"
     ]
    }
   ],
   "source": [
    "# check decorrelated u_ln and N_l array shapes exported by _compute_mbar_decorrelated_energies\n",
    "decorrelated_u_ln, decorrelated_N_l = analyzer._compute_mbar_decorrelated_energies()\n",
    "print(decorrelated_u_ln.shape, decorrelated_N_l.shape, decorrelated_N_l.sum())"
   ]
  },
  {
   "cell_type": "markdown",
   "id": "6ba480c3-7751-4dfb-84aa-35eb5a083900",
   "metadata": {},
   "source": [
    "##### compute manually"
   ]
  },
  {
   "cell_type": "code",
   "execution_count": 26,
   "id": "167e7861-8e7b-447d-80c0-9a2f88d17217",
   "metadata": {},
   "outputs": [],
   "source": [
    "# energy_data is [energy_sampled, energy_unsampled, neighborhood, replicas_state_indices]\n",
    "energy_data = list(analyzer.read_energies())\n",
    "\n",
    "# generate the equilibration data\n",
    "sampled_energy_matrix, unsampled_energy_matrix, neighborhoods, replicas_state_indices = energy_data\n",
    "\n",
    "# Note: This is different from pymbar.timeseries.detectEquilibration. analyzer._get_equilibration_data uses max_subset and excludes first iteration (minimization) to detect the equilibration data.\n",
    "number_equilibrated, g_t, Neff_max = analyzer._get_equilibration_data(sampled_energy_matrix, neighborhoods, replicas_state_indices)"
   ]
  },
  {
   "cell_type": "code",
   "execution_count": 29,
   "id": "3d9ea8a8-c505-4771-8845-5cafffda15d1",
   "metadata": {},
   "outputs": [],
   "source": [
    "# remove equilibrated and decorrelated data from energy_data\n",
    "for i, energies in enumerate(energy_data):\n",
    "    # Discard equilibration iterations.\n",
    "    energies = mmtools.multistate.utils.remove_unequilibrated_data(energies, number_equilibrated, -1)\n",
    "    # Subsample along the decorrelation data.\n",
    "    energy_data[i] = mmtools.multistate.utils.subsample_data_along_axis(energies, g_t, -1)"
   ]
  },
  {
   "cell_type": "code",
   "execution_count": 31,
   "id": "9b10d495-2642-4c10-8136-497c90e55593",
   "metadata": {},
   "outputs": [
    {
     "name": "stdout",
     "output_type": "stream",
     "text": [
      "(33, 33, 7568)\n",
      "(33, 0, 7568)\n",
      "(33, 33, 7568)\n",
      "(33, 7568)\n"
     ]
    }
   ],
   "source": [
    "sampled_energy_matrix, unsampled_energy_matrix, neighborhood, replicas_state_indices = energy_data\n",
    "print(sampled_energy_matrix.shape)\n",
    "print(unsampled_energy_matrix.shape)\n",
    "print(neighborhood.shape)\n",
    "print(replicas_state_indices.shape)"
   ]
  },
  {
   "cell_type": "code",
   "execution_count": 32,
   "id": "bc17f290-29b6-4e42-9263-cd4787c83678",
   "metadata": {},
   "outputs": [],
   "source": [
    "# Initialize the MBAR matrices in ln form.\n",
    "n_replicas, n_sampled_states, n_iterations = sampled_energy_matrix.shape\n",
    "_, n_unsampled_states, _ = unsampled_energy_matrix.shape\n",
    "n_total_states = n_sampled_states + n_unsampled_states\n",
    "energy_matrix = np.zeros([n_total_states, n_iterations*n_replicas])\n",
    "samples_per_state = np.zeros([n_total_states], dtype=int)"
   ]
  },
  {
   "cell_type": "code",
   "execution_count": 35,
   "id": "dfcea575-413b-4d88-809f-60e204eae557",
   "metadata": {},
   "outputs": [
    {
     "name": "stdout",
     "output_type": "stream",
     "text": [
      "(33, 249744)\n",
      "(33,)\n"
     ]
    }
   ],
   "source": [
    "print(energy_matrix.shape)\n",
    "print(samples_per_state.shape)"
   ]
  },
  {
   "cell_type": "code",
   "execution_count": 36,
   "id": "1d963c85-74fe-4218-9bde-9aae6d7666ea",
   "metadata": {},
   "outputs": [
    {
     "name": "stdout",
     "output_type": "stream",
     "text": [
      "0 33\n"
     ]
    }
   ],
   "source": [
    "# Compute shift index for how many unsampled states there were.\n",
    "# This assume that we set an equal number of unsampled states at the end points.\n",
    "first_sampled_state = int(n_unsampled_states/2.0)\n",
    "last_sampled_state = n_total_states - first_sampled_state\n",
    "print(first_sampled_state, last_sampled_state)"
   ]
  },
  {
   "cell_type": "code",
   "execution_count": 37,
   "id": "3535cbc4-183e-45a4-a8b0-574ca1074fd5",
   "metadata": {
    "scrolled": true,
    "tags": []
   },
   "outputs": [
    {
     "data": {
      "text/plain": [
       "\u001b[0;31mSignature:\u001b[0m\n",
       "\u001b[0manalyzer\u001b[0m\u001b[0;34m.\u001b[0m\u001b[0mreformat_energies_for_mbar\u001b[0m\u001b[0;34m(\u001b[0m\u001b[0;34m\u001b[0m\n",
       "\u001b[0;34m\u001b[0m    \u001b[0mu_kln\u001b[0m\u001b[0;34m:\u001b[0m \u001b[0mnumpy\u001b[0m\u001b[0;34m.\u001b[0m\u001b[0mndarray\u001b[0m\u001b[0;34m,\u001b[0m\u001b[0;34m\u001b[0m\n",
       "\u001b[0;34m\u001b[0m    \u001b[0mn_k\u001b[0m\u001b[0;34m:\u001b[0m \u001b[0mOptional\u001b[0m\u001b[0;34m[\u001b[0m\u001b[0mnumpy\u001b[0m\u001b[0;34m.\u001b[0m\u001b[0mndarray\u001b[0m\u001b[0;34m]\u001b[0m \u001b[0;34m=\u001b[0m \u001b[0;32mNone\u001b[0m\u001b[0;34m,\u001b[0m\u001b[0;34m\u001b[0m\n",
       "\u001b[0;34m\u001b[0m\u001b[0;34m)\u001b[0m\u001b[0;34m\u001b[0m\u001b[0;34m\u001b[0m\u001b[0m\n",
       "\u001b[0;31mDocstring:\u001b[0m\n",
       "Convert [replica, state, iteration] data into [state, total_iteration] data\n",
       "\n",
       "This method assumes that the first dimension are all samplers,\n",
       "the second dimension are all the thermodynamic states energies were evaluated at\n",
       "and an equal number of samples were drawn from each k'th sampler, UNLESS n_k is specified.\n",
       "\n",
       "Parameters\n",
       "----------\n",
       "u_kln : np.ndarray of shape (K,L,N')\n",
       "    K = number of replica samplers\n",
       "    L = number of thermodynamic states,\n",
       "    N' = number of iterations from state k\n",
       "n_k : np.ndarray of shape K or None\n",
       "    Number of samples each _SAMPLER_ (k) has drawn\n",
       "    This allows you to have trailing entries on a given kth row in the n'th (n prime) index\n",
       "    which do not contribute to the conversion.\n",
       "\n",
       "    If this is None, assumes ALL samplers have the same number of samples\n",
       "    such that N_k = N' for all k\n",
       "\n",
       "    **WARNING**: N_k is number of samples the SAMPLER drew in total,\n",
       "    NOT how many samples were drawn from each thermodynamic state L.\n",
       "    This method knows nothing of how many samples were drawn from each state.\n",
       "\n",
       "Returns\n",
       "-------\n",
       "u_ln : np.ndarray of shape (L, N)\n",
       "    Reduced, non-sparse data format\n",
       "    L = number of thermodynamic states\n",
       "    N = \\sum_k N_k. note this is not N'\n",
       "\u001b[0;31mFile:\u001b[0m      /lila/home/takabak/mambaforge/envs/openmm/lib/python3.9/site-packages/openmmtools/multistate/multistateanalyzer.py\n",
       "\u001b[0;31mType:\u001b[0m      function\n"
      ]
     },
     "metadata": {},
     "output_type": "display_data"
    }
   ],
   "source": [
    "analyzer.reformat_energies_for_mbar?"
   ]
  },
  {
   "cell_type": "code",
   "execution_count": 54,
   "id": "51f9c1ff-e6ce-46b0-93bc-14658d8884c2",
   "metadata": {},
   "outputs": [
    {
     "name": "stdout",
     "output_type": "stream",
     "text": [
      "(33, 33, 7568)\n"
     ]
    }
   ],
   "source": [
    "print(sampled_energy_matrix.shape)"
   ]
  },
  {
   "cell_type": "code",
   "execution_count": 55,
   "id": "eb58562e-493a-4756-a35e-076fc6d0fce2",
   "metadata": {},
   "outputs": [
    {
     "name": "stdout",
     "output_type": "stream",
     "text": [
      "(33,) (33, 249744)\n"
     ]
    }
   ],
   "source": [
    "u_kln = sampled_energy_matrix\n",
    "n_k = None\n",
    "\n",
    "k, l, n = u_kln.shape\n",
    "if n_k is None:\n",
    "    n_k = np.ones(k, dtype=np.int32)*n\n",
    "u_ln = np.zeros([l, n_k.sum()])\n",
    "\n",
    "print(n_k.shape, u_ln.shape)"
   ]
  },
  {
   "cell_type": "code",
   "execution_count": 56,
   "id": "666fc598-332c-461d-88da-d3a485aaf999",
   "metadata": {
    "scrolled": true,
    "tags": []
   },
   "outputs": [
    {
     "name": "stdout",
     "output_type": "stream",
     "text": [
      "0 0 7568 7568\n",
      "(33, 7568)\n",
      "1 7568 15136 7568\n",
      "(33, 7568)\n",
      "2 15136 22704 7568\n",
      "(33, 7568)\n",
      "3 22704 30272 7568\n",
      "(33, 7568)\n",
      "4 30272 37840 7568\n",
      "(33, 7568)\n",
      "5 37840 45408 7568\n",
      "(33, 7568)\n",
      "6 45408 52976 7568\n",
      "(33, 7568)\n",
      "7 52976 60544 7568\n",
      "(33, 7568)\n",
      "8 60544 68112 7568\n",
      "(33, 7568)\n",
      "9 68112 75680 7568\n",
      "(33, 7568)\n",
      "10 75680 83248 7568\n",
      "(33, 7568)\n",
      "11 83248 90816 7568\n",
      "(33, 7568)\n",
      "12 90816 98384 7568\n",
      "(33, 7568)\n",
      "13 98384 105952 7568\n",
      "(33, 7568)\n",
      "14 105952 113520 7568\n",
      "(33, 7568)\n",
      "15 113520 121088 7568\n",
      "(33, 7568)\n",
      "16 121088 128656 7568\n",
      "(33, 7568)\n",
      "17 128656 136224 7568\n",
      "(33, 7568)\n",
      "18 136224 143792 7568\n",
      "(33, 7568)\n",
      "19 143792 151360 7568\n",
      "(33, 7568)\n",
      "20 151360 158928 7568\n",
      "(33, 7568)\n",
      "21 158928 166496 7568\n",
      "(33, 7568)\n",
      "22 166496 174064 7568\n",
      "(33, 7568)\n",
      "23 174064 181632 7568\n",
      "(33, 7568)\n",
      "24 181632 189200 7568\n",
      "(33, 7568)\n",
      "25 189200 196768 7568\n",
      "(33, 7568)\n",
      "26 196768 204336 7568\n",
      "(33, 7568)\n",
      "27 204336 211904 7568\n",
      "(33, 7568)\n",
      "28 211904 219472 7568\n",
      "(33, 7568)\n",
      "29 219472 227040 7568\n",
      "(33, 7568)\n",
      "30 227040 234608 7568\n",
      "(33, 7568)\n",
      "31 234608 242176 7568\n",
      "(33, 7568)\n",
      "32 242176 249744 7568\n",
      "(33, 7568)\n"
     ]
    }
   ],
   "source": [
    "n_counter = 0\n",
    "for k_index in range(k):\n",
    "    print(k_index, n_counter, n_counter + n_k[k_index], n_k[k_index])\n",
    "    print(u_kln[k_index, :, :n_k[k_index]].shape)\n",
    "    u_ln[:, n_counter:n_counter + n_k[k_index]] = u_kln[k_index, :, :n_k[k_index]]\n",
    "    n_counter += n_k[k_index]"
   ]
  },
  {
   "cell_type": "code",
   "execution_count": 57,
   "id": "3a505ad0-60cb-48bd-8908-3c68f79913f7",
   "metadata": {},
   "outputs": [],
   "source": [
    "# Cast the sampled energy matrix from kln' to ln form.\n",
    "energy_matrix[first_sampled_state:last_sampled_state, :] = analyzer.reformat_energies_for_mbar(sampled_energy_matrix)\n",
    "\n",
    "# Determine how many samples and which states they were drawn from.\n",
    "unique_sampled_states, counts = np.unique(replicas_state_indices, return_counts=True)\n",
    "\n",
    "# Assign those counts to the correct range of states.\n",
    "samples_per_state[first_sampled_state:last_sampled_state][unique_sampled_states] = counts"
   ]
  },
  {
   "cell_type": "code",
   "execution_count": 58,
   "id": "d87ce96e-987b-43e1-81e7-29d1ec6b8a52",
   "metadata": {},
   "outputs": [
    {
     "data": {
      "text/plain": [
       "(33, 249744)"
      ]
     },
     "execution_count": 58,
     "metadata": {},
     "output_type": "execute_result"
    }
   ],
   "source": [
    "energy_matrix.shape"
   ]
  },
  {
   "cell_type": "code",
   "execution_count": 59,
   "id": "2d8ff1b3-fb99-405d-98fa-4fc3c806e13a",
   "metadata": {},
   "outputs": [
    {
     "data": {
      "text/plain": [
       "(33, 33, 7568)"
      ]
     },
     "execution_count": 59,
     "metadata": {},
     "output_type": "execute_result"
    }
   ],
   "source": [
    "sampled_energy_matrix.shape"
   ]
  },
  {
   "cell_type": "code",
   "execution_count": 60,
   "id": "534b558f-6cf0-46d8-b4d4-9aa355a2d8e5",
   "metadata": {},
   "outputs": [
    {
     "data": {
      "text/plain": [
       "array([[-49117.99260111, -49348.46038518, -49126.48641033, ...,\n",
       "        -45279.45492346, -45323.20070508, -45153.71124907],\n",
       "       [-50067.63498656, -50174.47841353, -50255.02515686, ...,\n",
       "        -48113.85875757, -48032.57379787, -47801.9676816 ],\n",
       "       [-50835.22407309, -50569.40388435, -50724.38225869, ...,\n",
       "        -45602.56783022, -45787.92246022, -45623.45969323],\n",
       "       ...,\n",
       "       [-50607.22365677, -50695.32194067, -50584.36462129, ...,\n",
       "        -49176.10934155, -49219.56009528, -49395.51226428],\n",
       "       [-47107.27415786, -47325.26837134, -47160.94386513, ...,\n",
       "        -45507.79609604, -44916.27802646, -45343.49361899],\n",
       "       [-48416.21382272, -48449.50548989, -47977.32197804, ...,\n",
       "        -50244.12259948, -50212.61940506, -50548.97521055]])"
      ]
     },
     "execution_count": 60,
     "metadata": {},
     "output_type": "execute_result"
    }
   ],
   "source": [
    "sampled_energy_matrix[:,0,:]"
   ]
  },
  {
   "cell_type": "code",
   "execution_count": 61,
   "id": "cedf1954-3a8b-447f-a831-0795a2582bf7",
   "metadata": {},
   "outputs": [
    {
     "data": {
      "text/plain": [
       "array([-49117.99260111, -49348.46038518, -49126.48641033, ...,\n",
       "       -50244.12259948, -50212.61940506, -50548.97521055])"
      ]
     },
     "execution_count": 61,
     "metadata": {},
     "output_type": "execute_result"
    }
   ],
   "source": [
    "energy_matrix[0,:]"
   ]
  },
  {
   "cell_type": "code",
   "execution_count": 62,
   "id": "0c50363e-5cb1-434e-8030-e52ee139c31b",
   "metadata": {},
   "outputs": [],
   "source": [
    "assert sampled_energy_matrix[:,0,:].flatten().all() == energy_matrix[0,:].all()"
   ]
  },
  {
   "cell_type": "markdown",
   "id": "ae8c11e7-2aa7-498b-9931-434eb15af357",
   "metadata": {},
   "source": [
    "### reformat observable"
   ]
  },
  {
   "cell_type": "code",
   "execution_count": 66,
   "id": "05623f4f-0ec5-4799-bdf2-6d7873725602",
   "metadata": {},
   "outputs": [
    {
     "data": {
      "text/plain": [
       "dict_keys([0, 1, 2, 3, 4, 5, 6, 7, 8, 9, 10, 11, 12, 13, 14, 15, 16, 17, 18, 19, 20, 21, 22, 23, 24, 25, 26, 27, 28, 29, 30, 31, 32])"
      ]
     },
     "execution_count": 66,
     "metadata": {},
     "output_type": "execute_result"
    }
   ],
   "source": [
    "result_dict.keys()"
   ]
  },
  {
   "cell_type": "code",
   "execution_count": 89,
   "id": "20d12201-8bbd-480b-9028-6175252d3bba",
   "metadata": {},
   "outputs": [
    {
     "data": {
      "text/plain": [
       "(33, 30000)"
      ]
     },
     "execution_count": 89,
     "metadata": {},
     "output_type": "execute_result"
    }
   ],
   "source": [
    "myclasses_by_number.shape   # n_replicas, n_iterations"
   ]
  },
  {
   "cell_type": "code",
   "execution_count": 100,
   "id": "8f03c6a1-5499-4ad1-8b84-58479e5fa3e0",
   "metadata": {},
   "outputs": [],
   "source": [
    "# initialize\n",
    "k, n = myclasses_by_number.shape\n",
    "o_ln = np.zeros([k, n+1])  # add iteration to match the shape size with energy matrix\n",
    "o_ln[:,1:] = myclasses_by_number"
   ]
  },
  {
   "cell_type": "code",
   "execution_count": 101,
   "id": "f61af771-f73f-474a-a1f7-bd3b200a3f68",
   "metadata": {},
   "outputs": [
    {
     "data": {
      "text/plain": [
       "(33, 30001)"
      ]
     },
     "execution_count": 101,
     "metadata": {},
     "output_type": "execute_result"
    }
   ],
   "source": [
    "o_ln.shape"
   ]
  },
  {
   "cell_type": "code",
   "execution_count": 102,
   "id": "99c05afe-c955-479b-b815-fce1f4bbd0c1",
   "metadata": {},
   "outputs": [],
   "source": [
    "import copy\n",
    "_o_ln = copy.deepcopy(o_ln)\n",
    "# Discard equilibration iterations.\n",
    "_o_ln = mmtools.multistate.utils.remove_unequilibrated_data(_o_ln, number_equilibrated, -1)\n",
    "# Subsample along the decorrelation data.\n",
    "decorrelated_o_ln = mmtools.multistate.utils.subsample_data_along_axis(_o_ln, g_t, -1)"
   ]
  },
  {
   "cell_type": "code",
   "execution_count": 110,
   "id": "deb4698d-a46c-4bce-99e1-72b1e6e74cdc",
   "metadata": {},
   "outputs": [
    {
     "data": {
      "text/plain": [
       "(33, 7568)"
      ]
     },
     "execution_count": 110,
     "metadata": {},
     "output_type": "execute_result"
    }
   ],
   "source": [
    "decorrelated_o_ln.shape"
   ]
  },
  {
   "cell_type": "code",
   "execution_count": 118,
   "id": "b1ad41f6-d9fe-4c6e-86c8-c7b92a8cd9bc",
   "metadata": {},
   "outputs": [
    {
     "data": {
      "text/plain": [
       "array([1., 5., 5., 6., 6., 6., 5., 5., 6., 5., 5., 6., 1., 6., 1., 1., 6.,\n",
       "       1., 6., 6., 1., 5., 6., 6., 6., 6., 6., 6., 6., 6., 6., 6., 6., 6.,\n",
       "       6., 6., 6., 6., 6., 3., 6., 6., 6., 6., 6., 6., 6., 6., 6., 6., 6.,\n",
       "       6., 6., 6., 6., 6., 6., 6., 6., 6., 6., 6., 6., 6., 6., 6., 6., 6.,\n",
       "       6., 6., 6., 6., 6., 6., 6., 6., 6., 6., 6., 6., 1., 6., 6., 6., 6.,\n",
       "       6., 6., 6., 6., 6., 6., 6., 6., 6., 6., 6., 6., 6., 6., 6.])"
      ]
     },
     "execution_count": 118,
     "metadata": {},
     "output_type": "execute_result"
    }
   ],
   "source": [
    "decorrelated_o_ln[1][:100]"
   ]
  },
  {
   "cell_type": "code",
   "execution_count": 119,
   "id": "a883ba07-475e-48f6-977f-25ba45845141",
   "metadata": {},
   "outputs": [
    {
     "data": {
      "text/plain": [
       "array([1., 5., 5., 6., 6., 6., 5., 5., 6., 5., 5., 6., 1., 6., 1., 1., 6.,\n",
       "       1., 6., 6., 1., 5., 6., 6., 6., 6., 6., 6., 6., 6., 6., 6., 6., 6.,\n",
       "       6., 6., 6., 6., 6., 3., 6., 6., 6., 6., 6., 6., 6., 6., 6., 6., 6.,\n",
       "       6., 6., 6., 6., 6., 6., 6., 6., 6., 6., 6., 6., 6., 6., 6., 6., 6.,\n",
       "       6., 6., 6., 6., 6., 6., 6., 6., 6., 6., 6., 6., 1., 6., 6., 6., 6.,\n",
       "       6., 6., 6., 6., 6., 6., 6., 6., 6., 6., 6., 6., 6., 6., 6.])"
      ]
     },
     "execution_count": 119,
     "metadata": {},
     "output_type": "execute_result"
    }
   ],
   "source": [
    "decorrelated_o_ln.flatten()[7568:7568+100]"
   ]
  },
  {
   "cell_type": "code",
   "execution_count": 120,
   "id": "37c8e82e-3c91-43cc-a46b-99a0b8d640ec",
   "metadata": {},
   "outputs": [],
   "source": [
    "obs = decorrelated_o_ln.flatten()"
   ]
  },
  {
   "cell_type": "code",
   "execution_count": 125,
   "id": "e450f0ce-13d5-47f4-a4bb-c516cbfaa4f4",
   "metadata": {},
   "outputs": [
    {
     "name": "stdout",
     "output_type": "stream",
     "text": [
      "(249744,) (33, 249744) (33,)\n"
     ]
    }
   ],
   "source": [
    "print(obs.shape, decorrelated_u_ln.shape, decorrelated_N_l.shape)"
   ]
  },
  {
   "cell_type": "markdown",
   "id": "9131f3a2-21df-4e8d-b4e6-2c1a876d09df",
   "metadata": {},
   "source": [
    "### MBAR"
   ]
  },
  {
   "cell_type": "code",
   "execution_count": 122,
   "id": "e43e5305-7cef-4e4f-9102-60e1edadbce1",
   "metadata": {},
   "outputs": [],
   "source": [
    "from pymbar import MBAR"
   ]
  },
  {
   "cell_type": "code",
   "execution_count": 123,
   "id": "0fce3aa9-49c4-4c7c-8061-c4b72a0d7b1b",
   "metadata": {},
   "outputs": [
    {
     "name": "stdout",
     "output_type": "stream",
     "text": [
      ">analyze with mbar\n"
     ]
    }
   ],
   "source": [
    "print(\">analyze with mbar\")\n",
    "mbar = MBAR(decorrelated_u_ln, decorrelated_N_l)   "
   ]
  },
  {
   "cell_type": "code",
   "execution_count": 128,
   "id": "08b67c92-dd76-45cb-a216-82e8616315b5",
   "metadata": {},
   "outputs": [
    {
     "data": {
      "text/plain": [
       "(249744, 33)"
      ]
     },
     "execution_count": 128,
     "metadata": {},
     "output_type": "execute_result"
    }
   ],
   "source": [
    "mbar.getWeights().shape"
   ]
  },
  {
   "cell_type": "code",
   "execution_count": 129,
   "id": "7e94ebe3-36bc-4422-852d-10aa66841340",
   "metadata": {
    "scrolled": true,
    "tags": []
   },
   "outputs": [
    {
     "name": "stdout",
     "output_type": "stream",
     "text": [
      "0 1.0000000000003908\n",
      "1 0.9999999999970262\n",
      "2 1.0000000000007851\n",
      "3 1.000000000001145\n",
      "4 0.9999999999990967\n",
      "5 1.000000000001369\n",
      "6 0.9999999999999434\n",
      "7 0.9999999999998374\n",
      "8 0.999999999999301\n",
      "9 1.0000000000000666\n",
      "10 1.0000000000005924\n",
      "11 0.9999999999996981\n",
      "12 0.9999999999999212\n",
      "13 1.0000000000000286\n",
      "14 0.9999999999984726\n",
      "15 1.000000000000838\n",
      "16 0.9999999999994938\n",
      "17 0.9999999999988886\n",
      "18 0.9999999999996665\n",
      "19 1.0000000000015374\n",
      "20 0.9999999999992332\n",
      "21 1.0000000000003404\n",
      "22 1.0000000000003662\n",
      "23 1.000000000000083\n",
      "24 0.999999999999854\n",
      "25 0.9999999999997664\n",
      "26 1.0000000000007399\n",
      "27 0.9999999999993936\n",
      "28 1.0000000000015812\n",
      "29 0.9999999999998865\n",
      "30 1.0000000000002993\n",
      "31 0.9999999999996755\n",
      "32 1.0000000000007272\n"
     ]
    }
   ],
   "source": [
    "for index in range(mbar.getWeights().shape[1]):\n",
    "    print(index, mbar.getWeights()[:,index].sum())"
   ]
  },
  {
   "cell_type": "code",
   "execution_count": 131,
   "id": "e6706df0-157f-49d2-b1d1-cb833c764048",
   "metadata": {},
   "outputs": [],
   "source": [
    "weights = mbar.getWeights()[:,0]   # weights for the first thermodynamic state"
   ]
  },
  {
   "cell_type": "code",
   "execution_count": 133,
   "id": "e8d577da-7d68-4546-b723-42a2c632ae2e",
   "metadata": {},
   "outputs": [
    {
     "data": {
      "text/plain": [
       "{'AMa': 1, 'AMi': 2, 'I': 3, 'F1': 4, 'F4': 5, 'O': 6}"
      ]
     },
     "execution_count": 133,
     "metadata": {},
     "output_type": "execute_result"
    }
   ],
   "source": [
    "myclass_mapping_dict"
   ]
  },
  {
   "cell_type": "code",
   "execution_count": 138,
   "id": "3b9f2d74-616d-4829-be31-8a6ac6cf9917",
   "metadata": {},
   "outputs": [],
   "source": [
    "indexes = np.where(obs == 1)"
   ]
  },
  {
   "cell_type": "code",
   "execution_count": 140,
   "id": "ef28e461-3480-4384-a58e-8feebce915a1",
   "metadata": {},
   "outputs": [
    {
     "data": {
      "text/plain": [
       "0.36581633071009356"
      ]
     },
     "execution_count": 140,
     "metadata": {},
     "output_type": "execute_result"
    }
   ],
   "source": [
    "weights[indexes].sum()"
   ]
  },
  {
   "cell_type": "code",
   "execution_count": 144,
   "id": "af9b59ae-c9de-4dc6-8c11-7a3b1251674c",
   "metadata": {
    "scrolled": true,
    "tags": []
   },
   "outputs": [
    {
     "name": "stdout",
     "output_type": "stream",
     "text": [
      "CLASS\tCOUNT\tREWEIGHT\n",
      "----------------------\n",
      "AMa:\t6.95\t\t36.58\n",
      "AMi:\t3.04\t\t9.02\n",
      "I:\t5.10\t\t19.93\n",
      "F1:\t2.71\t\t4.93\n",
      "F4:\t5.27\t\t13.08\n",
      "O:\t76.93\t\t16.46\n"
     ]
    }
   ],
   "source": [
    "print(\"CLASS\\tCOUNT\\tREWEIGHT\")\n",
    "print(\"----------------------\")\n",
    "\n",
    "for k, v in myclass_mapping_dict.items():\n",
    "    indexes = np.where(obs == v)\n",
    "    #print(k, v, indices)\n",
    "    \n",
    "    x = weights[indexes].sum() * 100\n",
    "    print(\"{}:\\t{:.2f}\\t\\t{:.2f}\".format(k, 100*len(indexes[0])/len(obs), x))"
   ]
  },
  {
   "cell_type": "code",
   "execution_count": null,
   "id": "6c468cbb-8c53-47fe-8b35-9755f7debc64",
   "metadata": {},
   "outputs": [],
   "source": []
  }
 ],
 "metadata": {
  "kernelspec": {
   "display_name": "Python 3 (ipykernel)",
   "language": "python",
   "name": "python3"
  },
  "language_info": {
   "codemirror_mode": {
    "name": "ipython",
    "version": 3
   },
   "file_extension": ".py",
   "mimetype": "text/x-python",
   "name": "python",
   "nbconvert_exporter": "python",
   "pygments_lexer": "ipython3",
   "version": "3.9.13"
  }
 },
 "nbformat": 4,
 "nbformat_minor": 5
}
